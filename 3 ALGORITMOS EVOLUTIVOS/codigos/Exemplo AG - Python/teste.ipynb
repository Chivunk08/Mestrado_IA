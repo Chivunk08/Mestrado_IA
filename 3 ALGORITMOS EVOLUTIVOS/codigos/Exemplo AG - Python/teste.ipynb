{
 "cells": [
  {
   "cell_type": "code",
   "execution_count": 4,
   "metadata": {},
   "outputs": [],
   "source": [
    "import random\n",
    "import math\n"
   ]
  },
  {
   "cell_type": "markdown",
   "metadata": {},
   "source": [
    "### Algoritmo Genético (Codificação Binária):"
   ]
  },
  {
   "cell_type": "code",
   "execution_count": 5,
   "metadata": {},
   "outputs": [],
   "source": [
    "def funcao_fitness(x):\n",
    "    return 1 / ((x - 3)**2 + 0.1) + 1 / ((x - 2)**2 + 0.05)\n",
    "\n",
    "def gerar_individuo(tamanho_cromossomo):\n",
    "    return [random.choice([0, 1]) for _ in range(tamanho_cromossomo)]\n",
    "\n",
    "def binario_para_decimal(binario):\n",
    "    decimal = 0\n",
    "    for bit in binario:\n",
    "        decimal = decimal * 2 + bit\n",
    "    return decimal\n",
    "\n",
    "def crossover(pai1, pai2):\n",
    "    ponto_crossover = random.randint(1, len(pai1) - 1)\n",
    "    filho1 = pai1[:ponto_crossover] + pai2[ponto_crossover:]\n",
    "    filho2 = pai2[:ponto_crossover] + pai1[ponto_crossover:]\n",
    "    return filho1, filho2\n",
    "\n",
    "def mutacao(individuo, taxa_mutacao):\n",
    "    individuo_mutado = []\n",
    "    for bit in individuo:\n",
    "        if random.random() < taxa_mutacao:\n",
    "            individuo_mutado.append(1 - bit)  # Inverte o bit\n",
    "        else:\n",
    "            individuo_mutado.append(bit)\n",
    "    return individuo_mutado\n",
    "\n",
    "def algoritmo_genetico(num_geracoes, tamanho_populacao, tamanho_cromossomo, taxa_mutacao):\n",
    "    populacao = [gerar_individuo(tamanho_cromossomo) for _ in range(tamanho_populacao)]\n",
    "\n",
    "    for geracao in range(num_geracoes):\n",
    "        # Avaliar o fitness\n",
    "        pontuacoes_fitness = [funcao_fitness(binario_para_decimal(individuo)) for individuo in populacao]\n",
    "\n",
    "        # Selecionar pais\n",
    "        pais = random.choices(populacao, weights=pontuacoes_fitness, k=2)\n",
    "\n",
    "        # Crossover\n",
    "        filho1, filho2 = crossover(pais[0], pais[1])\n",
    "\n",
    "        # Mutacao dos filhos\n",
    "        filho1 = mutacao(filho1, taxa_mutacao)\n",
    "        filho2 = mutacao(filho2, taxa_mutacao)\n",
    "\n",
    "        # Substituir os indivíduos menos aptos pelos filhos\n",
    "        populacao.remove(random.choice(populacao))\n",
    "        populacao.remove(random.choice(populacao))\n",
    "        populacao.extend([filho1, filho2])\n",
    "\n",
    "    # Retornar o melhor indivíduo na população final\n",
    "    melhor_individuo = max(populacao, key=lambda x: funcao_fitness(binario_para_decimal(x)))\n",
    "    return bin\n"
   ]
  },
  {
   "cell_type": "markdown",
   "metadata": {},
   "source": [
    "### Estratégia Evolutiva (Codificação Decimal)"
   ]
  },
  {
   "cell_type": "code",
   "execution_count": 7,
   "metadata": {},
   "outputs": [],
   "source": [
    "def funcao_fitness_2(x, y):\n",
    "    return 0.5 - (math.sin(math.sqrt(x**2 + y**2)) - 0.5) / (1 + 0.001 * (x**2 + y**2))\n",
    "\n",
    "def gerar_individuo_2():\n",
    "    return random.uniform(-10, 10), random.uniform(-10, 10)\n",
    "\n",
    "def crossover_2(pai1, pai2):\n",
    "    ponto_crossover = random.random()\n",
    "    filho_x = ponto_crossover * pai1[0] + (1 - ponto_crossover) * pai2[0]\n",
    "    filho_y = ponto_crossover * pai1[1] + (1 - ponto_crossover) * pai2[1]\n",
    "    return filho_x, filho_y\n",
    "\n",
    "def mutacao_2(individuo, passo_mutacao):\n",
    "    x_mutado = individuo[0] + random.uniform(-passo_mutacao, passo_mutacao)\n",
    "    y_mutado = individuo[1] + random.uniform(-passo_mutacao, passo_mutacao)\n",
    "    return x_mutado, y_mutado\n",
    "\n",
    "def estrategia_evolutiva(num_geracoes, tamanho_populacao, passo_mutacao):\n",
    "    populacao = [gerar_individuo_2() for _ in range(tamanho_populacao)]\n",
    "\n",
    "    for geracao in range(num_geracoes):\n",
    "        # Avaliar o fitness\n",
    "        pontuacoes_fitness = [funcao_fitness_2(x, y) for x, y in populacao]\n",
    "\n",
    "        # Selecionar pais (usando torneio)\n",
    "        pai1 = max(populacao, key=funcao_fitness_2)\n",
    "        pai2 = max(populacao, key=funcao_fitness_2)\n",
    "\n",
    "        # Crossover\n",
    "        filho = crossover_2(pai1, pai2)\n",
    "\n",
    "        # Mutar o filho\n",
    "        filho = mutacao_2(filho, passo_mutacao)\n",
    "\n",
    "        # Substituir o indivíduo menos apto na população\n",
    "        populacao.remove(min(populacao, key=funcao_fitness_2))\n",
    "        populacao.append(filho)\n",
    "\n",
    "    # Retornar o melhor indivíduo na população final\n",
    "    melhor_individuo = max(populacao, key=funcao_fitness)\n"
   ]
  },
  {
   "cell_type": "code",
   "execution_count": null,
   "metadata": {},
   "outputs": [],
   "source": [
    "Aqui, a função de fitness pode ser diretamente relacionada ao valor da função \n",
    "f(x). No entanto, como algoritmos genéticos geralmente buscam maximizar uma função, você pode usar a função negativa de \n",
    "f(x) como a função de fitness, para transformar um problema de minimização em um problema de maximização. Portanto, a função de fitness seria:\n",
    "fitness(x)=−f(x)"
   ]
  }
 ],
 "metadata": {
  "kernelspec": {
   "display_name": "Python 3",
   "language": "python",
   "name": "python3"
  },
  "language_info": {
   "codemirror_mode": {
    "name": "ipython",
    "version": 3
   },
   "file_extension": ".py",
   "mimetype": "text/x-python",
   "name": "python",
   "nbconvert_exporter": "python",
   "pygments_lexer": "ipython3",
   "version": "3.10.10"
  }
 },
 "nbformat": 4,
 "nbformat_minor": 2
}
