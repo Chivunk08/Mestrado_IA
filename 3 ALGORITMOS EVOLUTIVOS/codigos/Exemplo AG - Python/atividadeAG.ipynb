{
 "cells": [
  {
   "cell_type": "code",
   "execution_count": 19,
   "metadata": {},
   "outputs": [
    {
     "name": "stdout",
     "output_type": "stream",
     "text": [
      "Máximo valor encontrado: 4\n"
     ]
    }
   ],
   "source": [
    "import random\n",
    "\n",
    "# Função de avaliação (fitness function)\n",
    "def fitness_function(x):\n",
    "    return (1/(x-3)**2+0.1)+(1/(x-2)**2+0.05)\n",
    "\n",
    "# Função para gerar um indivíduo com codificação binária\n",
    "def generate_individual(length):\n",
    "    return [random.choice([0, 1]) for _ in range(length)]\n",
    "\n",
    "# Função para converter uma representação binária para decimal\n",
    "def binary_to_decimal(binary):\n",
    "    decimal = 0\n",
    "    for bit in binary:\n",
    "        decimal = decimal * 2 + bit\n",
    "    return decimal\n",
    "\n",
    "# Função de crossover (cruzamento) para dois pais\n",
    "def crossover(parent1, parent2):\n",
    "    crossover_point = random.randint(1, len(parent1) - 1)\n",
    "    child1 = parent1[:crossover_point] + parent2[crossover_point:]\n",
    "    child2 = parent2[:crossover_point] + parent1[crossover_point:]\n",
    "    return child1, child2\n",
    "\n",
    "# Função de mutação para um indivíduo\n",
    "def mutate(individual, mutation_rate):\n",
    "    mutated_individual = []\n",
    "    for bit in individual:\n",
    "        if random.random() < mutation_rate:\n",
    "            mutated_individual.append(1 - bit)  # Inverte o bit\n",
    "        else:\n",
    "            mutated_individual.append(bit)\n",
    "    return mutated_individual\n",
    "\n",
    "# Algoritmo Genético\n",
    "def genetic_algorithm(num_generations, population_size, chromosome_length, mutation_rate):\n",
    "    # Inicialização da população\n",
    "    population = [generate_individual(chromosome_length) for _ in range(population_size)]\n",
    "\n",
    "    for generation in range(num_generations):\n",
    "        # Avaliação da aptidão (fitness)\n",
    "        fitness_scores = [fitness_function(binary_to_decimal(individual)) for individual in population]\n",
    "\n",
    "        # Seleção de pais\n",
    "        parents = random.choices(population, weights=fitness_scores, k=2)\n",
    "\n",
    "        # Cruzamento (crossover)\n",
    "        offspring1, offspring2 = crossover(parents[0], parents[1])\n",
    "\n",
    "        # Mutação dos descendentes\n",
    "        offspring1 = mutate(offspring1, mutation_rate)\n",
    "        offspring2 = mutate(offspring2, mutation_rate)\n",
    "\n",
    "        # Substituição dos indivíduos menos aptos pelos descendentes\n",
    "        population.remove(random.choice(population))\n",
    "        population.remove(random.choice(population))\n",
    "        population.extend([offspring1, offspring2])\n",
    "\n",
    "    # Retorna o melhor indivíduo na população final\n",
    "    best_individual = max(population, key=lambda x: fitness_function(binary_to_decimal(x)))\n",
    "    return binary_to_decimal(best_individual)\n",
    "\n",
    "# Exemplo de uso\n",
    "result = genetic_algorithm(num_generations=50, population_size=10, chromosome_length=10, mutation_rate=0.1)\n",
    "print(\"Máximo valor encontrado:\", result)\n"
   ]
  },
  {
   "cell_type": "code",
   "execution_count": null,
   "metadata": {},
   "outputs": [],
   "source": []
  }
 ],
 "metadata": {
  "kernelspec": {
   "display_name": "Python 3",
   "language": "python",
   "name": "python3"
  },
  "language_info": {
   "codemirror_mode": {
    "name": "ipython",
    "version": 3
   },
   "file_extension": ".py",
   "mimetype": "text/x-python",
   "name": "python",
   "nbconvert_exporter": "python",
   "pygments_lexer": "ipython3",
   "version": "3.10.10"
  }
 },
 "nbformat": 4,
 "nbformat_minor": 2
}
