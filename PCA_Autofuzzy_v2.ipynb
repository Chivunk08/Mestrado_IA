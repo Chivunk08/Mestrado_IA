{
 "cells": [
  {
   "cell_type": "code",
   "execution_count": 1,
   "metadata": {},
   "outputs": [],
   "source": [
    "import pandas as pd\n",
    "import numpy as np\n",
    "import matplotlib.pyplot as plt\n",
    "import xlrd\n",
    "import plotly.offline as py\n",
    "import plotly.graph_objects as go\n",
    "\n",
    "import warnings\n",
    "warnings.filterwarnings('ignore')\n",
    "\n",
    "def read_date(date):\n",
    "    return xlrd.xldate.xldate_as_datetime(date, 0)\n",
    "\n",
    "datain = pd.read_csv('PCA_Datain.txt', sep='\\t', engine='python')\n",
    "dataout = pd.read_csv('PCA_Dataout.txt', sep='\\t', engine='python')\n",
    "DataHora = pd.read_csv('PCA_Datahora.txt', sep='\\t', engine='python')\n",
    "\n",
    "# DataHora = pd.DataFrame(data1, columns=['Hora'])\n",
    "\n",
    "# DataHora['Hora'] = pd.to_datetime(DataHora['Hora'].apply(read_date), errors='coerce')\n"
   ]
  },
  {
   "cell_type": "code",
   "execution_count": 2,
   "metadata": {},
   "outputs": [],
   "source": [
    "datainf = datain.copy()\n",
    "dataoutf = dataout.copy()\n",
    "DataHora_f = DataHora.copy()\n",
    "\n",
    "indexval = datain[((datain['UGD6_Running']<6) | (datain['UGD6_Running']>13))\\\n",
    "                | ((datain['UGD7_Running']<6) | (datain['UGD7_Running']>13))\\\n",
    "                | ((datain['UGD8_Running']<6) | (datain['UGD8_Running']>13))\\\n",
    "                | ((datain['UGD9_Running']<6) | (datain['UGD9_Running']>13))\\\n",
    "                | ((datain['UGD10_Running']<6) | (datain['UGD10_Running']>13))].index\n",
    "\n",
    "datainf.drop(indexval,inplace=True)\n",
    "dataoutf.drop(indexval,inplace=True)\n",
    "DataHora_f.drop(indexval,inplace=True)\n",
    "\n",
    "datainf = datainf.reset_index()\n",
    "dataoutf = dataoutf.reset_index()\n",
    "DataHora_f = DataHora_f.reset_index()\n",
    "\n",
    "datainf.drop('index',axis=1,inplace=True)\n",
    "dataoutf.drop('index',axis=1,inplace=True)\n",
    "DataHora_f.drop('index',axis=1,inplace=True)"
   ]
  },
  {
   "cell_type": "code",
   "execution_count": 3,
   "metadata": {},
   "outputs": [],
   "source": [
    "data_in = [datainf.TentHT, datainf.Tamb, datainf.Power6, datainf.Power7, datainf.Power8, datainf.Power9, datainf.Power10]\n",
    "entrada = pd.concat(data_in, axis=1)\n",
    "\n",
    "data_out = [dataoutf.TsaidaHT, dataoutf.NumVentOn]\n",
    "saida = pd.concat(data_out, axis=1)\n",
    "\n",
    "pca_matriz = pd.concat([entrada], axis=1)"
   ]
  },
  {
   "cell_type": "code",
   "execution_count": 4,
   "metadata": {},
   "outputs": [
    {
     "name": "stdout",
     "output_type": "stream",
     "text": [
      "[[-0.3699065  -0.10673866 -0.3918253  -0.27206635 -0.39178467 -0.47479805\n",
      "  -0.49527816]\n",
      " [-0.50387753 -0.73907954  0.34933607 -0.17003971  0.1042324   0.13253356\n",
      "   0.14314376]\n",
      " [ 0.13090799  0.13261317 -0.16234034 -0.90016056  0.30690028  0.1482269\n",
      "   0.11168899]\n",
      " [ 0.20196602  0.06182783  0.4130579  -0.26895439 -0.81522185  0.16557147\n",
      "   0.14294463]\n",
      " [ 0.14565684 -0.37025492 -0.71918129  0.10867793 -0.25986024  0.34648612\n",
      "   0.35367043]\n",
      " [-0.53273112  0.38053963 -0.07210008  0.05096327 -0.06288339  0.6964855\n",
      "  -0.2730295 ]\n",
      " [-0.49631752  0.37290782 -0.07103432  0.00572297 -0.07337754 -0.32011226\n",
      "   0.70828944]]\n",
      "[2.14380477 1.26324647 0.9113759  0.78191139 0.68257491 0.64399424\n",
      " 0.57310163]\n"
     ]
    }
   ],
   "source": [
    "from sklearn.preprocessing import StandardScaler\n",
    "from sklearn.decomposition import PCA\n",
    "\n",
    "normalizado = StandardScaler().fit_transform(pca_matriz)\n",
    "\n",
    "pca = PCA()\n",
    "principalComponents = pca.fit_transform(normalizado)\n",
    "principalDf = pd.DataFrame(data = principalComponents\n",
    "             , columns = ['Componente principal 1', 'Componente principal 2','Componente principal 3', 'Componente principal 4', 'Componente principal 5', 'Componente principal 6', 'Componente principal 7'])\n",
    "\n",
    "explained_variance = pca.explained_variance_ratio_\n",
    "pca_components = pca.components_\n",
    "\n",
    "print(pca_components)\n",
    "print(pca.explained_variance_)\n"
   ]
  },
  {
   "cell_type": "code",
   "execution_count": 5,
   "metadata": {},
   "outputs": [
    {
     "name": "stdout",
     "output_type": "stream",
     "text": [
      "[[ 1.00000133  0.30723465  0.10766067  0.16580933  0.16882722  0.22254305\n",
      "   0.26491029]\n",
      " [ 0.30723465  1.00000133 -0.08723948  0.08546238  0.02459773  0.02553275\n",
      "  -0.00482307]\n",
      " [ 0.10766067 -0.08723948  1.00000133  0.14386409  0.19986369  0.29946457\n",
      "   0.31907175]\n",
      " [ 0.16580933  0.08546238  0.14386409  1.00000133  0.10420439  0.13954977\n",
      "   0.15603578]\n",
      " [ 0.16882722  0.02459773  0.19986369  0.10420439  1.00000133  0.27595597\n",
      "   0.29349835]\n",
      " [ 0.22254305  0.02553275  0.29946457  0.13954977  0.27595597  1.00000133\n",
      "   0.39293128]\n",
      " [ 0.26491029 -0.00482307  0.31907175  0.15603578  0.29349835  0.39293128\n",
      "   1.00000133]]\n",
      "Eigenvectors \n",
      "[[ 0.3699065   0.50387753  0.13090799 -0.20196602 -0.49631752  0.53273112\n",
      "   0.14565684]\n",
      " [ 0.10673866  0.73907954  0.13261317 -0.06182783  0.37290782 -0.38053963\n",
      "  -0.37025492]\n",
      " [ 0.3918253  -0.34933607 -0.16234034 -0.4130579  -0.07103432  0.07210008\n",
      "  -0.71918129]\n",
      " [ 0.27206635  0.17003971 -0.90016056  0.26895439  0.00572297 -0.05096327\n",
      "   0.10867793]\n",
      " [ 0.39178467 -0.1042324   0.30690028  0.81522185 -0.07337754  0.06288339\n",
      "  -0.25986024]\n",
      " [ 0.47479805 -0.13253356  0.1482269  -0.16557147 -0.32011226 -0.6964855\n",
      "   0.34648612]\n",
      " [ 0.49527816 -0.14314376  0.11168899 -0.14294463  0.70828944  0.2730295\n",
      "   0.35367043]]\n",
      "\n",
      "Eigenvalues \n",
      "[2.14380477 1.26324647 0.9113759  0.78191139 0.57310163 0.64399424\n",
      " 0.68257491]\n"
     ]
    }
   ],
   "source": [
    "#Calcular a matriz de covariância\n",
    "\n",
    "cov_m = np.cov(normalizado.T)\n",
    "\n",
    "print(cov_m)\n",
    "\n",
    "eig_vals, eig_vecs = np.linalg.eig(cov_m)\n",
    "\n",
    "print('Eigenvectors \\n%s' %eig_vecs)\n",
    "print('\\nEigenvalues \\n%s' %eig_vals)"
   ]
  },
  {
   "cell_type": "code",
   "execution_count": 6,
   "metadata": {},
   "outputs": [
    {
     "data": {
      "application/vnd.plotly.v1+json": {
       "config": {
        "linkText": "Export to plot.ly",
        "plotlyServerURL": "https://plot.ly",
        "showLink": false
       },
       "data": [
        {
         "name": "Individual",
         "type": "bar",
         "x": [
          "PC 1",
          "PC 2",
          "PC 3",
          "PC 4",
          "PC 5",
          "PC 6",
          "PC 7",
          "PC 8"
         ],
         "y": [
          30.62574172783348,
          18.04635407285679,
          13.019638368965605,
          11.170147876756623,
          9.751057102514869,
          9.199905538315019,
          8.187155312757616
         ]
        },
        {
         "name": "Cumulative",
         "type": "scatter",
         "x": [
          "PC 1",
          "PC 2",
          "PC 3",
          "PC 4",
          "PC 5",
          "PC 6",
          "PC 7",
          "PC 8"
         ],
         "y": [
          30.62574172783348,
          48.67209580069027,
          61.691734169655874,
          72.86188204641249,
          82.61293914892735,
          91.81284468724238,
          99.99999999999999
         ]
        }
       ],
       "layout": {
        "annotations": [
         {
          "showarrow": false,
          "text": "Explained Variance",
          "x": 1.16,
          "xref": "paper",
          "y": 1.05,
          "yref": "paper"
         }
        ],
        "template": {
         "data": {
          "bar": [
           {
            "error_x": {
             "color": "#2a3f5f"
            },
            "error_y": {
             "color": "#2a3f5f"
            },
            "marker": {
             "line": {
              "color": "#E5ECF6",
              "width": 0.5
             },
             "pattern": {
              "fillmode": "overlay",
              "size": 10,
              "solidity": 0.2
             }
            },
            "type": "bar"
           }
          ],
          "barpolar": [
           {
            "marker": {
             "line": {
              "color": "#E5ECF6",
              "width": 0.5
             },
             "pattern": {
              "fillmode": "overlay",
              "size": 10,
              "solidity": 0.2
             }
            },
            "type": "barpolar"
           }
          ],
          "carpet": [
           {
            "aaxis": {
             "endlinecolor": "#2a3f5f",
             "gridcolor": "white",
             "linecolor": "white",
             "minorgridcolor": "white",
             "startlinecolor": "#2a3f5f"
            },
            "baxis": {
             "endlinecolor": "#2a3f5f",
             "gridcolor": "white",
             "linecolor": "white",
             "minorgridcolor": "white",
             "startlinecolor": "#2a3f5f"
            },
            "type": "carpet"
           }
          ],
          "choropleth": [
           {
            "colorbar": {
             "outlinewidth": 0,
             "ticks": ""
            },
            "type": "choropleth"
           }
          ],
          "contour": [
           {
            "colorbar": {
             "outlinewidth": 0,
             "ticks": ""
            },
            "colorscale": [
             [
              0,
              "#0d0887"
             ],
             [
              0.1111111111111111,
              "#46039f"
             ],
             [
              0.2222222222222222,
              "#7201a8"
             ],
             [
              0.3333333333333333,
              "#9c179e"
             ],
             [
              0.4444444444444444,
              "#bd3786"
             ],
             [
              0.5555555555555556,
              "#d8576b"
             ],
             [
              0.6666666666666666,
              "#ed7953"
             ],
             [
              0.7777777777777778,
              "#fb9f3a"
             ],
             [
              0.8888888888888888,
              "#fdca26"
             ],
             [
              1,
              "#f0f921"
             ]
            ],
            "type": "contour"
           }
          ],
          "contourcarpet": [
           {
            "colorbar": {
             "outlinewidth": 0,
             "ticks": ""
            },
            "type": "contourcarpet"
           }
          ],
          "heatmap": [
           {
            "colorbar": {
             "outlinewidth": 0,
             "ticks": ""
            },
            "colorscale": [
             [
              0,
              "#0d0887"
             ],
             [
              0.1111111111111111,
              "#46039f"
             ],
             [
              0.2222222222222222,
              "#7201a8"
             ],
             [
              0.3333333333333333,
              "#9c179e"
             ],
             [
              0.4444444444444444,
              "#bd3786"
             ],
             [
              0.5555555555555556,
              "#d8576b"
             ],
             [
              0.6666666666666666,
              "#ed7953"
             ],
             [
              0.7777777777777778,
              "#fb9f3a"
             ],
             [
              0.8888888888888888,
              "#fdca26"
             ],
             [
              1,
              "#f0f921"
             ]
            ],
            "type": "heatmap"
           }
          ],
          "heatmapgl": [
           {
            "colorbar": {
             "outlinewidth": 0,
             "ticks": ""
            },
            "colorscale": [
             [
              0,
              "#0d0887"
             ],
             [
              0.1111111111111111,
              "#46039f"
             ],
             [
              0.2222222222222222,
              "#7201a8"
             ],
             [
              0.3333333333333333,
              "#9c179e"
             ],
             [
              0.4444444444444444,
              "#bd3786"
             ],
             [
              0.5555555555555556,
              "#d8576b"
             ],
             [
              0.6666666666666666,
              "#ed7953"
             ],
             [
              0.7777777777777778,
              "#fb9f3a"
             ],
             [
              0.8888888888888888,
              "#fdca26"
             ],
             [
              1,
              "#f0f921"
             ]
            ],
            "type": "heatmapgl"
           }
          ],
          "histogram": [
           {
            "marker": {
             "pattern": {
              "fillmode": "overlay",
              "size": 10,
              "solidity": 0.2
             }
            },
            "type": "histogram"
           }
          ],
          "histogram2d": [
           {
            "colorbar": {
             "outlinewidth": 0,
             "ticks": ""
            },
            "colorscale": [
             [
              0,
              "#0d0887"
             ],
             [
              0.1111111111111111,
              "#46039f"
             ],
             [
              0.2222222222222222,
              "#7201a8"
             ],
             [
              0.3333333333333333,
              "#9c179e"
             ],
             [
              0.4444444444444444,
              "#bd3786"
             ],
             [
              0.5555555555555556,
              "#d8576b"
             ],
             [
              0.6666666666666666,
              "#ed7953"
             ],
             [
              0.7777777777777778,
              "#fb9f3a"
             ],
             [
              0.8888888888888888,
              "#fdca26"
             ],
             [
              1,
              "#f0f921"
             ]
            ],
            "type": "histogram2d"
           }
          ],
          "histogram2dcontour": [
           {
            "colorbar": {
             "outlinewidth": 0,
             "ticks": ""
            },
            "colorscale": [
             [
              0,
              "#0d0887"
             ],
             [
              0.1111111111111111,
              "#46039f"
             ],
             [
              0.2222222222222222,
              "#7201a8"
             ],
             [
              0.3333333333333333,
              "#9c179e"
             ],
             [
              0.4444444444444444,
              "#bd3786"
             ],
             [
              0.5555555555555556,
              "#d8576b"
             ],
             [
              0.6666666666666666,
              "#ed7953"
             ],
             [
              0.7777777777777778,
              "#fb9f3a"
             ],
             [
              0.8888888888888888,
              "#fdca26"
             ],
             [
              1,
              "#f0f921"
             ]
            ],
            "type": "histogram2dcontour"
           }
          ],
          "mesh3d": [
           {
            "colorbar": {
             "outlinewidth": 0,
             "ticks": ""
            },
            "type": "mesh3d"
           }
          ],
          "parcoords": [
           {
            "line": {
             "colorbar": {
              "outlinewidth": 0,
              "ticks": ""
             }
            },
            "type": "parcoords"
           }
          ],
          "pie": [
           {
            "automargin": true,
            "type": "pie"
           }
          ],
          "scatter": [
           {
            "fillpattern": {
             "fillmode": "overlay",
             "size": 10,
             "solidity": 0.2
            },
            "type": "scatter"
           }
          ],
          "scatter3d": [
           {
            "line": {
             "colorbar": {
              "outlinewidth": 0,
              "ticks": ""
             }
            },
            "marker": {
             "colorbar": {
              "outlinewidth": 0,
              "ticks": ""
             }
            },
            "type": "scatter3d"
           }
          ],
          "scattercarpet": [
           {
            "marker": {
             "colorbar": {
              "outlinewidth": 0,
              "ticks": ""
             }
            },
            "type": "scattercarpet"
           }
          ],
          "scattergeo": [
           {
            "marker": {
             "colorbar": {
              "outlinewidth": 0,
              "ticks": ""
             }
            },
            "type": "scattergeo"
           }
          ],
          "scattergl": [
           {
            "marker": {
             "colorbar": {
              "outlinewidth": 0,
              "ticks": ""
             }
            },
            "type": "scattergl"
           }
          ],
          "scattermapbox": [
           {
            "marker": {
             "colorbar": {
              "outlinewidth": 0,
              "ticks": ""
             }
            },
            "type": "scattermapbox"
           }
          ],
          "scatterpolar": [
           {
            "marker": {
             "colorbar": {
              "outlinewidth": 0,
              "ticks": ""
             }
            },
            "type": "scatterpolar"
           }
          ],
          "scatterpolargl": [
           {
            "marker": {
             "colorbar": {
              "outlinewidth": 0,
              "ticks": ""
             }
            },
            "type": "scatterpolargl"
           }
          ],
          "scatterternary": [
           {
            "marker": {
             "colorbar": {
              "outlinewidth": 0,
              "ticks": ""
             }
            },
            "type": "scatterternary"
           }
          ],
          "surface": [
           {
            "colorbar": {
             "outlinewidth": 0,
             "ticks": ""
            },
            "colorscale": [
             [
              0,
              "#0d0887"
             ],
             [
              0.1111111111111111,
              "#46039f"
             ],
             [
              0.2222222222222222,
              "#7201a8"
             ],
             [
              0.3333333333333333,
              "#9c179e"
             ],
             [
              0.4444444444444444,
              "#bd3786"
             ],
             [
              0.5555555555555556,
              "#d8576b"
             ],
             [
              0.6666666666666666,
              "#ed7953"
             ],
             [
              0.7777777777777778,
              "#fb9f3a"
             ],
             [
              0.8888888888888888,
              "#fdca26"
             ],
             [
              1,
              "#f0f921"
             ]
            ],
            "type": "surface"
           }
          ],
          "table": [
           {
            "cells": {
             "fill": {
              "color": "#EBF0F8"
             },
             "line": {
              "color": "white"
             }
            },
            "header": {
             "fill": {
              "color": "#C8D4E3"
             },
             "line": {
              "color": "white"
             }
            },
            "type": "table"
           }
          ]
         },
         "layout": {
          "annotationdefaults": {
           "arrowcolor": "#2a3f5f",
           "arrowhead": 0,
           "arrowwidth": 1
          },
          "autotypenumbers": "strict",
          "coloraxis": {
           "colorbar": {
            "outlinewidth": 0,
            "ticks": ""
           }
          },
          "colorscale": {
           "diverging": [
            [
             0,
             "#8e0152"
            ],
            [
             0.1,
             "#c51b7d"
            ],
            [
             0.2,
             "#de77ae"
            ],
            [
             0.3,
             "#f1b6da"
            ],
            [
             0.4,
             "#fde0ef"
            ],
            [
             0.5,
             "#f7f7f7"
            ],
            [
             0.6,
             "#e6f5d0"
            ],
            [
             0.7,
             "#b8e186"
            ],
            [
             0.8,
             "#7fbc41"
            ],
            [
             0.9,
             "#4d9221"
            ],
            [
             1,
             "#276419"
            ]
           ],
           "sequential": [
            [
             0,
             "#0d0887"
            ],
            [
             0.1111111111111111,
             "#46039f"
            ],
            [
             0.2222222222222222,
             "#7201a8"
            ],
            [
             0.3333333333333333,
             "#9c179e"
            ],
            [
             0.4444444444444444,
             "#bd3786"
            ],
            [
             0.5555555555555556,
             "#d8576b"
            ],
            [
             0.6666666666666666,
             "#ed7953"
            ],
            [
             0.7777777777777778,
             "#fb9f3a"
            ],
            [
             0.8888888888888888,
             "#fdca26"
            ],
            [
             1,
             "#f0f921"
            ]
           ],
           "sequentialminus": [
            [
             0,
             "#0d0887"
            ],
            [
             0.1111111111111111,
             "#46039f"
            ],
            [
             0.2222222222222222,
             "#7201a8"
            ],
            [
             0.3333333333333333,
             "#9c179e"
            ],
            [
             0.4444444444444444,
             "#bd3786"
            ],
            [
             0.5555555555555556,
             "#d8576b"
            ],
            [
             0.6666666666666666,
             "#ed7953"
            ],
            [
             0.7777777777777778,
             "#fb9f3a"
            ],
            [
             0.8888888888888888,
             "#fdca26"
            ],
            [
             1,
             "#f0f921"
            ]
           ]
          },
          "colorway": [
           "#636efa",
           "#EF553B",
           "#00cc96",
           "#ab63fa",
           "#FFA15A",
           "#19d3f3",
           "#FF6692",
           "#B6E880",
           "#FF97FF",
           "#FECB52"
          ],
          "font": {
           "color": "#2a3f5f"
          },
          "geo": {
           "bgcolor": "white",
           "lakecolor": "white",
           "landcolor": "#E5ECF6",
           "showlakes": true,
           "showland": true,
           "subunitcolor": "white"
          },
          "hoverlabel": {
           "align": "left"
          },
          "hovermode": "closest",
          "mapbox": {
           "style": "light"
          },
          "paper_bgcolor": "white",
          "plot_bgcolor": "#E5ECF6",
          "polar": {
           "angularaxis": {
            "gridcolor": "white",
            "linecolor": "white",
            "ticks": ""
           },
           "bgcolor": "#E5ECF6",
           "radialaxis": {
            "gridcolor": "white",
            "linecolor": "white",
            "ticks": ""
           }
          },
          "scene": {
           "xaxis": {
            "backgroundcolor": "#E5ECF6",
            "gridcolor": "white",
            "gridwidth": 2,
            "linecolor": "white",
            "showbackground": true,
            "ticks": "",
            "zerolinecolor": "white"
           },
           "yaxis": {
            "backgroundcolor": "#E5ECF6",
            "gridcolor": "white",
            "gridwidth": 2,
            "linecolor": "white",
            "showbackground": true,
            "ticks": "",
            "zerolinecolor": "white"
           },
           "zaxis": {
            "backgroundcolor": "#E5ECF6",
            "gridcolor": "white",
            "gridwidth": 2,
            "linecolor": "white",
            "showbackground": true,
            "ticks": "",
            "zerolinecolor": "white"
           }
          },
          "shapedefaults": {
           "line": {
            "color": "#2a3f5f"
           }
          },
          "ternary": {
           "aaxis": {
            "gridcolor": "white",
            "linecolor": "white",
            "ticks": ""
           },
           "baxis": {
            "gridcolor": "white",
            "linecolor": "white",
            "ticks": ""
           },
           "bgcolor": "#E5ECF6",
           "caxis": {
            "gridcolor": "white",
            "linecolor": "white",
            "ticks": ""
           }
          },
          "title": {
           "x": 0.05
          },
          "xaxis": {
           "automargin": true,
           "gridcolor": "white",
           "linecolor": "white",
           "ticks": "",
           "title": {
            "standoff": 15
           },
           "zerolinecolor": "white",
           "zerolinewidth": 2
          },
          "yaxis": {
           "automargin": true,
           "gridcolor": "white",
           "linecolor": "white",
           "ticks": "",
           "title": {
            "standoff": 15
           },
           "zerolinecolor": "white",
           "zerolinewidth": 2
          }
         }
        },
        "title": {
         "text": "Explained variance by different principal components"
        },
        "yaxis": {
         "title": {
          "text": "Explained variance in percent"
         }
        }
       }
      }
     },
     "metadata": {},
     "output_type": "display_data"
    }
   ],
   "source": [
    "tot = sum(eig_vals)\n",
    "var_exp = [(i / tot)*100 for i in sorted(eig_vals, reverse=True)]\n",
    "cum_var_exp = np.cumsum(var_exp)\n",
    "\n",
    "\n",
    "trace1 = dict(\n",
    "    type='bar',\n",
    "    x=['PC %s' %i for i in range(1,9)],\n",
    "    y=var_exp,\n",
    "    name='Individual'\n",
    ")\n",
    "\n",
    "trace2 = dict(\n",
    "    type='scatter',\n",
    "    x=['PC %s' %i for i in range(1,9)], \n",
    "    y=cum_var_exp,\n",
    "    name='Cumulative'\n",
    ")\n",
    "\n",
    "data = [trace1, trace2]\n",
    "\n",
    "layout=dict(\n",
    "    title='Explained variance by different principal components',\n",
    "    yaxis=dict(\n",
    "        title='Explained variance in percent'\n",
    "    ),\n",
    "    annotations=list([\n",
    "        dict(\n",
    "            x=1.16,\n",
    "            y=1.05,\n",
    "            xref='paper',\n",
    "            yref='paper',\n",
    "            text='Explained Variance',\n",
    "            showarrow=False,\n",
    "        )\n",
    "    ])\n",
    ")\n",
    "\n",
    "fig = dict(data=data, layout=layout)\n",
    "py.iplot(fig, filename='selecting-principal-components')"
   ]
  },
  {
   "cell_type": "code",
   "execution_count": 7,
   "metadata": {},
   "outputs": [],
   "source": [
    "# p1 = go.Scatter(\n",
    "#     x = DataHora['Hora'],\n",
    "#     y = entrada['TentHT'],\n",
    "#     name = 'TentHT'\n",
    "# )\n",
    "\n",
    "# p2 = go.Scatter(\n",
    "#     x = DataHora['Hora'],\n",
    "#     y = entrada['NumVentOn'],\n",
    "#     name = 'NumVentOn'    \n",
    "# )\n",
    "\n",
    "# p3 = go.Scatter(\n",
    "#     x = DataHora['Hora'],\n",
    "#     y = entrada['Tamb'],\n",
    "#     name = 'Tamb'\n",
    "# )\n",
    "\n",
    "# p4 = go.Scatter(\n",
    "#     x = DataHora['Hora'],\n",
    "#     y = saida['TsaidaHT'],\n",
    "#     name = 'TsaidaHT'\n",
    "# )\n",
    "\n",
    "# trend = go.Figure()\n",
    "# trend.add_trace(p1)\n",
    "# #trend.add_trace(p2)\n",
    "# #trend.add_trace(p3)\n",
    "# #trend.add_trace(p4)\n",
    "# trend.show()"
   ]
  },
  {
   "cell_type": "code",
   "execution_count": 8,
   "metadata": {},
   "outputs": [
    {
     "data": {
      "image/png": "[encoded data removed]",
      "text/plain": [
       "<Figure size 640x480 with 1 Axes>"
      ]
     },
     "metadata": {},
     "output_type": "display_data"
    }
   ],
   "source": [
    "def myplot(score,coeff,labels):\n",
    "    xs = score[:,0]\n",
    "    ys = score[:,1]\n",
    "    n = coeff.shape[0]\n",
    "    scalex = 1.0/(xs.max() - xs.min())\n",
    "    scaley = 1.0/(ys.max() - ys.min())\n",
    "    plt.scatter(xs * scalex, ys * scaley,color = 'b', s = 50)\n",
    "    plt.legend('PCA')\n",
    "    #plt.scatter(xs * scalex,ys * scaley)\n",
    "    for i in range(n):\n",
    "        plt.arrow(0, 0, coeff[i,0], coeff[i,1],color = 'r',alpha = 0.5)\n",
    "        if labels is None:\n",
    "            plt.text(coeff[i,0]* 1.15, coeff[i,1] * 1.15, \"Var\"+str(i+1), color = 'g', ha = 'center', va = 'center')\n",
    "        else:\n",
    "            plt.text(coeff[i,0]* 1.15, coeff[i,1] * 1.15, labels[i], color = 'g', ha = 'center', va = 'center')\n",
    "plt.xlim(-1,1)\n",
    "plt.ylim(-1,1)\n",
    "plt.xlabel(\"PC{}\".format(1))\n",
    "plt.ylabel(\"PC{}\".format(2))\n",
    "plt.grid()\n",
    "\n",
    "#Call the function. Use only the 2 PCs.\n",
    "myplot(principalComponents[:,0:2],np.transpose(pca.components_[0:2, :]),list(pca_matriz))\n",
    "plt.show()"
   ]
  },
  {
   "cell_type": "code",
   "execution_count": 9,
   "metadata": {},
   "outputs": [],
   "source": [
    "# Normalizando PCA\n",
    "comp1 = principalComponents[:,0]\n",
    "comp2 = principalComponents[:,1]\n",
    "comp3 = principalComponents[:,2]\n",
    "comp4 = principalComponents[:,3]\n",
    "\n",
    "n = np.transpose(pca.components_[0:3, :]).shape[0]\n",
    "scale1 = 1.0/(comp1.max() - comp1.min())\n",
    "scale2 = 1.0/(comp2.max() - comp2.min())\n",
    "scale3 = 1.0/(comp3.max() - comp3.min())\n",
    "scale4 = 1.0/(comp4.max() - comp4.min())\n",
    "\n",
    "comp1n = scale1*comp1\n",
    "comp2n = scale2*comp2\n",
    "comp3n = scale3*comp3\n",
    "comp4n = scale4*comp4"
   ]
  },
  {
   "cell_type": "code",
   "execution_count": 10,
   "metadata": {},
   "outputs": [],
   "source": [
    "# Parte - Autorules fuzzy\n",
    "import skfuzzy as fuzz\n",
    "from skfuzzy import control as ctrl\n",
    "\n",
    "Vent = ctrl.Antecedent(np.arange(0, 56,1), 'Vent')\n",
    "Tout = ctrl.Consequent(np.arange(20, 100, 0.01), 'Tout')\n",
    "PCA1 = ctrl.Antecedent(np.arange(-1, 1, 0.001), 'PCA1')\n",
    "PCA2 = ctrl.Antecedent(np.arange(-1, 1, 0.001), 'PCA2')\n",
    "PCA3 = ctrl.Antecedent(np.arange(-1, 1, 0.001), 'PCA3')\n",
    "PCA4 = ctrl.Antecedent(np.arange(-1, 1, 0.001), 'PCA4')\n"
   ]
  },
  {
   "cell_type": "code",
   "execution_count": 11,
   "metadata": {},
   "outputs": [],
   "source": [
    "i=0\n",
    "tempmf = 100\n",
    "pcamf =  60\n",
    "ventmf = 56\n",
    "namestemp = []\n",
    "namespca = []\n",
    "namesvent = []\n",
    "for i in range(tempmf):\n",
    "    temp = 'temp'+str(i)\n",
    "    namestemp.append(temp)\n",
    "for i in range(pcamf):\n",
    "    temp = 'comp'+str(i)\n",
    "    namespca.append(temp)\n",
    "for i in range(ventmf):\n",
    "    temp = 'ventnum'+str(i)\n",
    "    namesvent.append(temp)\n",
    "\n",
    "namestemppd = pd.DataFrame(namestemp,columns=['name'])\n",
    "namespcapd = pd.DataFrame(namespca,columns=['name'])\n",
    "namesventpd = pd.DataFrame(namesvent,columns=['name'])\n",
    "\n",
    "# Auto-membership function population is possible with .automf(3, 5, or 7)\n",
    "Vent.automf(names=namesvent)\n",
    "Tout.automf(names=namestemp)\n",
    "PCA1.automf(names=namespca)\n",
    "PCA2.automf(names=namespca)\n",
    "PCA3.automf(names=namespca)\n",
    "PCA4.automf(names=namespca)\n"
   ]
  },
  {
   "cell_type": "code",
   "execution_count": 12,
   "metadata": {},
   "outputs": [],
   "source": [
    "stp_ini = 0\n",
    "stp_fim = 21600\n",
    "\n",
    "per1 = stp_ini\n",
    "per2 = stp_fim"
   ]
  },
  {
   "cell_type": "code",
   "execution_count": 13,
   "metadata": {},
   "outputs": [
    {
     "data": {
      "image/png": "[encoded data removed]",
      "text/plain": [
       "<Figure size 640x480 with 2 Axes>"
      ]
     },
     "metadata": {},
     "output_type": "display_data"
    }
   ],
   "source": [
    "fig, ax1 = plt.subplots()\n",
    "\n",
    "color = 'tab:red'\n",
    "ax1.set_xlabel('Step')\n",
    "ax1.set_ylabel('Temperatura', color=color)\n",
    "ax1.plot(dataoutf.TsaidaHT[per1:per2], color=color)\n",
    "ax1.tick_params(axis='y', labelcolor=color)\n",
    "\n",
    "ax2 = ax1.twinx()  # instantiate a second axes that shares the same x-axis\n",
    "\n",
    "color = 'tab:blue'\n",
    "ax2.set_ylabel('Num Vent', color=color)  # we already handled the x-label with ax1\n",
    "ax2.plot(dataoutf.NumVentOn[per1:per2], color=color)\n",
    "ax2.tick_params(axis='y', labelcolor=color)\n",
    "#ax2.set_ylim([20,43])\n",
    "\n",
    "fig.tight_layout()  # otherwise the right y-label is slightly clipped\n",
    "\n",
    "#print(DataHora_f[per1:per2])\n",
    "plt.show()"
   ]
  },
  {
   "cell_type": "code",
   "execution_count": 14,
   "metadata": {},
   "outputs": [],
   "source": [
    "# Auto rules PCA\n",
    "x1 = []\n",
    "x2 = []\n",
    "x3 = []\n",
    "x4 = []\n",
    "n = 0\n",
    "m = 0\n",
    "condition1 = []\n",
    "condition2 = []\n",
    "condition3 = []\n",
    "condition4 = []\n",
    "\n",
    "for n in range(len(namespca)):\n",
    "    x1.append(fuzz.interp_membership(np.arange(-1, 1, 0.001), PCA1[namespcapd.name.loc[n]].mf, comp1n[stp_ini:stp_fim]))\n",
    "    x2.append(fuzz.interp_membership(np.arange(-1, 1, 0.001), PCA2[namespcapd.name.loc[n]].mf, comp2n[stp_ini:stp_fim]))\n",
    "    x3.append(fuzz.interp_membership(np.arange(-1, 1, 0.001), PCA3[namespcapd.name.loc[n]].mf, comp3n[stp_ini:stp_fim]))\n",
    "    x4.append(fuzz.interp_membership(np.arange(-1, 1, 0.001), PCA4[namespcapd.name.loc[n]].mf, comp4n[stp_ini:stp_fim]))\n",
    "        \n",
    "x1 = np.transpose(x1)\n",
    "x1_conv = pd.DataFrame(x1)\n",
    "x2 = np.transpose(x2)\n",
    "x2_conv = pd.DataFrame(x2)\n",
    "x3 = np.transpose(x3)\n",
    "x3_conv = pd.DataFrame(x3)\n",
    "x4 = np.transpose(x4)\n",
    "x4_conv = pd.DataFrame(x4)\n",
    "\n",
    "i=0\n",
    "for i in range(pcamf):\n",
    "    condition1.append([x1_conv.idxmax(axis=1) == i])\n",
    "    condition2.append([x2_conv.idxmax(axis=1) == i])\n",
    "    condition3.append([x3_conv.idxmax(axis=1) == i])\n",
    "    condition4.append([x4_conv.idxmax(axis=1) == i])\n",
    "\n",
    "choicelist = namespca\n",
    "\n",
    "x1_rules = np.select(condition1, choicelist)\n",
    "x2_rules = np.select(condition2, choicelist)\n",
    "x3_rules = np.select(condition3, choicelist)\n",
    "x4_rules = np.select(condition4, choicelist)"
   ]
  },
  {
   "cell_type": "code",
   "execution_count": 15,
   "metadata": {},
   "outputs": [],
   "source": [
    "#Auto rules para Tout\n",
    "x6 = []\n",
    "n = 0\n",
    "m = 0\n",
    "condition6 = []\n",
    "\n",
    "for n in range(len(namestemp)):\n",
    "    x6.append(fuzz.interp_membership(np.arange(20, 100, 0.01), Tout[namestemppd.name.loc[n]].mf, dataoutf.TsaidaHT[stp_ini:stp_fim]))\n",
    "    \n",
    "x6 = np.transpose(x6)\n",
    "Tout_conv = pd.DataFrame(x6)\n",
    "\n",
    "i=0\n",
    "for i in range(tempmf):\n",
    "    condition6.append([Tout_conv.idxmax(axis=1) == i])\n",
    "choicelist6 = namestemp\n",
    "\n",
    "Tout_rules = np.select(condition6, choicelist6)"
   ]
  },
  {
   "cell_type": "code",
   "execution_count": 16,
   "metadata": {},
   "outputs": [],
   "source": [
    "#Auto rules para Vent\n",
    "x5 = []\n",
    "n = 0\n",
    "m = 0\n",
    "condition5 = []\n",
    "\n",
    "for n in range(len(namesvent)):\n",
    "    x5.append(fuzz.interp_membership(np.arange(0,56,1), Vent[namesventpd.name.loc[n]].mf, dataoutf.NumVentOn[stp_ini:stp_fim]))\n",
    "    \n",
    "x5 = np.transpose(x5)\n",
    "Vent_conv = pd.DataFrame(x5)\n",
    "\n",
    "i=0\n",
    "for i in range(ventmf):\n",
    "    condition5.append([Vent_conv.idxmax(axis=1) == i])\n",
    "choicelist5 = namesvent\n",
    "\n",
    "Vent_rules = np.select(condition5, choicelist5)"
   ]
  },
  {
   "cell_type": "code",
   "execution_count": 17,
   "metadata": {},
   "outputs": [
    {
     "name": "stdout",
     "output_type": "stream",
     "text": [
      "Total de regras extraidas: 21600\n",
      "Total de regras unicas: 754\n"
     ]
    }
   ],
   "source": [
    "Rules = np.vstack([x1_rules,x2_rules,x3_rules,x4_rules,Vent_rules,Tout_rules])\n",
    "Rules = Rules.T\n",
    "\n",
    "####################################################\n",
    "\n",
    "AutoRules = pd.DataFrame(Rules, columns=['PCA1','PCA2','PCA3','PCA4','Vent','Tout'])\n",
    "print('Total de regras extraidas:',len(AutoRules))\n",
    "\n",
    "AutoRules = AutoRules.drop_duplicates()\n",
    "print('Total de regras unicas:',len(AutoRules))\n",
    "\n",
    "AutoRules = AutoRules.reset_index(drop=True)\n",
    "#print(AutoRules)"
   ]
  },
  {
   "cell_type": "code",
   "execution_count": 18,
   "metadata": {},
   "outputs": [],
   "source": [
    "i=0\n",
    "rule = []\n",
    "for i in range(len(AutoRules)):\n",
    "    rule.append(ctrl.Rule(PCA1[AutoRules.PCA1.loc[i]] & PCA2[AutoRules.PCA2.loc[i]] & PCA3[AutoRules.PCA3.loc[i]] & PCA4[AutoRules.PCA4.loc[i]] & Vent[AutoRules.Vent.loc[i]], (Tout[AutoRules.Tout.loc[i]]%1.0)))\n"
   ]
  },
  {
   "cell_type": "code",
   "execution_count": 22,
   "metadata": {},
   "outputs": [],
   "source": [
    "newrule = ctrl.Rule(PCA1[AutoRules.PCA1.loc[2]] & PCA2[AutoRules.PCA2.loc[5]] & PCA3[AutoRules.PCA3.loc[3]] & PCA4[AutoRules.PCA4.loc[4]] & Vent[AutoRules.Vent.loc[5]], (Tout[AutoRules.Tout.loc[6]]%1.0))\n",
    "\n",
    "len(rule)\n",
    "\n",
    "\n",
    "sim = ctrl.ControlSystem(rule)\n",
    "sim.addrule(newrule)\n",
    "simulation = ctrl.ControlSystemSimulation(sim)\n",
    "sim.view()"
   ]
  },
  {
   "cell_type": "code",
   "execution_count": 20,
   "metadata": {},
   "outputs": [
    {
     "ename": "KeyboardInterrupt",
     "evalue": "",
     "output_type": "error",
     "traceback": [
      "\u001b[1;31m---------------------------------------------------------------------------\u001b[0m",
      "\u001b[1;31mTypeError\u001b[0m                                 Traceback (most recent call last)",
      "File \u001b[1;32m~\\AppData\\Local\\Packages\\PythonSoftwareFoundation.Python.3.10_qbz5n2kfra8p0\\LocalCache\\local-packages\\Python310\\site-packages\\networkx\\classes\\digraph.py:532\u001b[0m, in \u001b[0;36mDiGraph.add_nodes_from\u001b[1;34m(self, nodes_for_adding, **attr)\u001b[0m\n\u001b[0;32m    531\u001b[0m \u001b[39mtry\u001b[39;00m:\n\u001b[1;32m--> 532\u001b[0m     newnode \u001b[39m=\u001b[39m n \u001b[39mnot\u001b[39;49;00m \u001b[39min\u001b[39;49;00m \u001b[39mself\u001b[39;49m\u001b[39m.\u001b[39;49m_node\n\u001b[0;32m    533\u001b[0m     newdict \u001b[39m=\u001b[39m attr\n",
      "\u001b[1;31mTypeError\u001b[0m: unhashable type: 'dict'",
      "\nDuring handling of the above exception, another exception occurred:\n",
      "\u001b[1;31mKeyboardInterrupt\u001b[0m                         Traceback (most recent call last)",
      "\u001b[1;32mc:\\Users\\andre\\OneDrive\\Área de Trabalho\\Mestrado\\PESQUISA\\Dados_Orientador\\Programa Modelo EPASA Fuzzy\\PCA_Autofuzzy_v2.ipynb Cell 20\u001b[0m line \u001b[0;36m1\n\u001b[1;32m----> <a href='vscode-notebook-cell:/c%3A/Users/andre/OneDrive/%C3%81rea%20de%20Trabalho/Mestrado/PESQUISA/Dados_Orientador/Programa%20Modelo%20EPASA%20Fuzzy/PCA_Autofuzzy_v2.ipynb#X25sZmlsZQ%3D%3D?line=0'>1</a>\u001b[0m sim \u001b[39m=\u001b[39m ctrl\u001b[39m.\u001b[39;49mControlSystem(rule)\n",
      "File \u001b[1;32m~\\AppData\\Local\\Packages\\PythonSoftwareFoundation.Python.3.10_qbz5n2kfra8p0\\LocalCache\\local-packages\\Python310\\site-packages\\skfuzzy\\control\\controlsystem.py:47\u001b[0m, in \u001b[0;36mControlSystem.__init__\u001b[1;34m(self, rules)\u001b[0m\n\u001b[0;32m     45\u001b[0m \u001b[39mif\u001b[39;00m \u001b[39mhasattr\u001b[39m(rules, \u001b[39m'\u001b[39m\u001b[39m__iter__\u001b[39m\u001b[39m'\u001b[39m):\n\u001b[0;32m     46\u001b[0m     \u001b[39mfor\u001b[39;00m rule \u001b[39min\u001b[39;00m rules:\n\u001b[1;32m---> 47\u001b[0m         \u001b[39mself\u001b[39;49m\u001b[39m.\u001b[39;49maddrule(rule)\n\u001b[0;32m     48\u001b[0m \u001b[39melse\u001b[39;00m:\n\u001b[0;32m     49\u001b[0m     \u001b[39mtry\u001b[39;00m:\n",
      "File \u001b[1;32m~\\AppData\\Local\\Packages\\PythonSoftwareFoundation.Python.3.10_qbz5n2kfra8p0\\LocalCache\\local-packages\\Python310\\site-packages\\skfuzzy\\control\\controlsystem.py:100\u001b[0m, in \u001b[0;36mControlSystem.addrule\u001b[1;34m(self, rule)\u001b[0m\n\u001b[0;32m     98\u001b[0m \u001b[39m# Ensure no label duplication\u001b[39;00m\n\u001b[0;32m     99\u001b[0m labels \u001b[39m=\u001b[39m []\n\u001b[1;32m--> 100\u001b[0m \u001b[39mfor\u001b[39;00m r \u001b[39min\u001b[39;00m \u001b[39mself\u001b[39m\u001b[39m.\u001b[39mrules:\n\u001b[0;32m    101\u001b[0m     \u001b[39mif\u001b[39;00m r\u001b[39m.\u001b[39mlabel \u001b[39min\u001b[39;00m labels:\n\u001b[0;32m    102\u001b[0m         \u001b[39mraise\u001b[39;00m \u001b[39mValueError\u001b[39;00m(\u001b[39m\"\u001b[39m\u001b[39mInput rule cannot have same label, \u001b[39m\u001b[39m'\u001b[39m\u001b[39m{0}\u001b[39;00m\u001b[39m'\u001b[39m\u001b[39m, \u001b[39m\u001b[39m\"\u001b[39m\n\u001b[0;32m    103\u001b[0m                          \u001b[39m\"\u001b[39m\u001b[39mas any other rule.\u001b[39m\u001b[39m\"\u001b[39m\u001b[39m.\u001b[39mformat(r\u001b[39m.\u001b[39mlabel))\n",
      "File \u001b[1;32m~\\AppData\\Local\\Packages\\PythonSoftwareFoundation.Python.3.10_qbz5n2kfra8p0\\LocalCache\\local-packages\\Python310\\site-packages\\skfuzzy\\control\\controlsystem.py:729\u001b[0m, in \u001b[0;36mRuleOrderGenerator.__iter__\u001b[1;34m(self)\u001b[0m\n\u001b[0;32m    725\u001b[0m \u001b[39mif\u001b[39;00m \u001b[39mself\u001b[39m\u001b[39m.\u001b[39m_cached_graph \u001b[39mis\u001b[39;00m \u001b[39mnot\u001b[39;00m \u001b[39mself\u001b[39m\u001b[39m.\u001b[39mcontrol_system\u001b[39m.\u001b[39mgraph:\n\u001b[0;32m    726\u001b[0m     \u001b[39m# The controller is still using a different version of the graph\u001b[39;00m\n\u001b[0;32m    727\u001b[0m     \u001b[39m#  than we created the rule order for.  Thus, make new cache\u001b[39;00m\n\u001b[0;32m    728\u001b[0m     \u001b[39mself\u001b[39m\u001b[39m.\u001b[39m_init_state()\n\u001b[1;32m--> 729\u001b[0m     \u001b[39mself\u001b[39m\u001b[39m.\u001b[39m_cache \u001b[39m=\u001b[39m \u001b[39mlist\u001b[39;49m(\u001b[39mself\u001b[39;49m\u001b[39m.\u001b[39;49m_process_rules(\u001b[39mself\u001b[39;49m\u001b[39m.\u001b[39;49mall_rules[:]))\n\u001b[0;32m    730\u001b[0m     \u001b[39mself\u001b[39m\u001b[39m.\u001b[39m_cached_graph \u001b[39m=\u001b[39m \u001b[39mself\u001b[39m\u001b[39m.\u001b[39mcontrol_system\u001b[39m.\u001b[39mgraph\n\u001b[0;32m    732\u001b[0m \u001b[39mfor\u001b[39;00m n, r \u001b[39min\u001b[39;00m \u001b[39menumerate\u001b[39m(\u001b[39mself\u001b[39m\u001b[39m.\u001b[39m_cache):\n",
      "File \u001b[1;32m~\\AppData\\Local\\Packages\\PythonSoftwareFoundation.Python.3.10_qbz5n2kfra8p0\\LocalCache\\local-packages\\Python310\\site-packages\\skfuzzy\\control\\controlsystem.py:767\u001b[0m, in \u001b[0;36mRuleOrderGenerator._process_rules\u001b[1;34m(self, rules)\u001b[0m\n\u001b[0;32m    765\u001b[0m     \u001b[39myield\u001b[39;00m rule\n\u001b[0;32m    766\u001b[0m     \u001b[39m# Add rule to calced graph\u001b[39;00m\n\u001b[1;32m--> 767\u001b[0m     \u001b[39mself\u001b[39m\u001b[39m.\u001b[39mcalced_graph \u001b[39m=\u001b[39m nx\u001b[39m.\u001b[39;49mcompose(\u001b[39mself\u001b[39;49m\u001b[39m.\u001b[39;49mcalced_graph, rule\u001b[39m.\u001b[39;49mgraph)\n\u001b[0;32m    768\u001b[0m \u001b[39melse\u001b[39;00m:\n\u001b[0;32m    769\u001b[0m     \u001b[39m# We have not calculated the predecsors for this rule yet.\u001b[39;00m\n\u001b[0;32m    770\u001b[0m     \u001b[39m#  Skip it for now\u001b[39;00m\n\u001b[0;32m    771\u001b[0m     skipped_rules\u001b[39m.\u001b[39mappend(rule)\n",
      "File \u001b[1;32m~\\AppData\\Local\\Packages\\PythonSoftwareFoundation.Python.3.10_qbz5n2kfra8p0\\LocalCache\\local-packages\\Python310\\site-packages\\networkx\\algorithms\\operators\\binary.py:358\u001b[0m, in \u001b[0;36mcompose\u001b[1;34m(G, H)\u001b[0m\n\u001b[0;32m    285\u001b[0m \u001b[39mdef\u001b[39;00m \u001b[39mcompose\u001b[39m(G, H):\n\u001b[0;32m    286\u001b[0m \u001b[39m    \u001b[39m\u001b[39m\"\"\"Compose graph G with H by combining nodes and edges into a single graph.\u001b[39;00m\n\u001b[0;32m    287\u001b[0m \n\u001b[0;32m    288\u001b[0m \u001b[39m    The node sets and edges sets do not need to be disjoint.\u001b[39;00m\n\u001b[1;32m   (...)\u001b[0m\n\u001b[0;32m    356\u001b[0m \u001b[39m    100.0\u001b[39;00m\n\u001b[0;32m    357\u001b[0m \u001b[39m    \"\"\"\u001b[39;00m\n\u001b[1;32m--> 358\u001b[0m     \u001b[39mreturn\u001b[39;00m nx\u001b[39m.\u001b[39;49mcompose_all([G, H])\n",
      "File \u001b[1;32m~\\AppData\\Local\\Packages\\PythonSoftwareFoundation.Python.3.10_qbz5n2kfra8p0\\LocalCache\\local-packages\\Python310\\site-packages\\networkx\\algorithms\\operators\\all.py:173\u001b[0m, in \u001b[0;36mcompose_all\u001b[1;34m(graphs)\u001b[0m\n\u001b[0;32m    170\u001b[0m         \u001b[39mraise\u001b[39;00m nx\u001b[39m.\u001b[39mNetworkXError(\u001b[39m\"\u001b[39m\u001b[39mAll graphs must be graphs or multigraphs.\u001b[39m\u001b[39m\"\u001b[39m)\n\u001b[0;32m    172\u001b[0m     R\u001b[39m.\u001b[39mgraph\u001b[39m.\u001b[39mupdate(G\u001b[39m.\u001b[39mgraph)\n\u001b[1;32m--> 173\u001b[0m     R\u001b[39m.\u001b[39;49madd_nodes_from(G\u001b[39m.\u001b[39;49mnodes(data\u001b[39m=\u001b[39;49m\u001b[39mTrue\u001b[39;49;00m))\n\u001b[0;32m    174\u001b[0m     R\u001b[39m.\u001b[39madd_edges_from(\n\u001b[0;32m    175\u001b[0m         G\u001b[39m.\u001b[39medges(keys\u001b[39m=\u001b[39m\u001b[39mTrue\u001b[39;00m, data\u001b[39m=\u001b[39m\u001b[39mTrue\u001b[39;00m) \u001b[39mif\u001b[39;00m G\u001b[39m.\u001b[39mis_multigraph() \u001b[39melse\u001b[39;00m G\u001b[39m.\u001b[39medges(data\u001b[39m=\u001b[39m\u001b[39mTrue\u001b[39;00m)\n\u001b[0;32m    176\u001b[0m     )\n\u001b[0;32m    178\u001b[0m \u001b[39mif\u001b[39;00m R \u001b[39mis\u001b[39;00m \u001b[39mNone\u001b[39;00m:\n",
      "File \u001b[1;32m~\\AppData\\Local\\Packages\\PythonSoftwareFoundation.Python.3.10_qbz5n2kfra8p0\\LocalCache\\local-packages\\Python310\\site-packages\\networkx\\classes\\digraph.py:537\u001b[0m, in \u001b[0;36mDiGraph.add_nodes_from\u001b[1;34m(self, nodes_for_adding, **attr)\u001b[0m\n\u001b[0;32m    535\u001b[0m     n, ndict \u001b[39m=\u001b[39m n\n\u001b[0;32m    536\u001b[0m     newnode \u001b[39m=\u001b[39m n \u001b[39mnot\u001b[39;00m \u001b[39min\u001b[39;00m \u001b[39mself\u001b[39m\u001b[39m.\u001b[39m_node\n\u001b[1;32m--> 537\u001b[0m     newdict \u001b[39m=\u001b[39m attr\u001b[39m.\u001b[39;49mcopy()\n\u001b[0;32m    538\u001b[0m     newdict\u001b[39m.\u001b[39mupdate(ndict)\n\u001b[0;32m    539\u001b[0m \u001b[39mif\u001b[39;00m newnode:\n",
      "\u001b[1;31mKeyboardInterrupt\u001b[0m: "
     ]
    }
   ],
   "source": [
    "sim = ctrl.ControlSystem(rule)"
   ]
  },
  {
   "cell_type": "code",
   "execution_count": null,
   "metadata": {},
   "outputs": [],
   "source": [
    "simulation = ctrl.ControlSystemSimulation(sim)"
   ]
  },
  {
   "cell_type": "code",
   "execution_count": null,
   "metadata": {},
   "outputs": [],
   "source": [
    "#import dill\n",
    "\n",
    "# Save the file\n",
    "#dill.dump(simulation, file = open(\"simulation_1.pickle\", \"wb\"))"
   ]
  },
  {
   "cell_type": "code",
   "execution_count": null,
   "metadata": {},
   "outputs": [
    {
     "data": {
      "text/plain": [
       "753"
      ]
     },
     "execution_count": 146,
     "metadata": {},
     "output_type": "execute_result"
    }
   ],
   "source": [
    "i"
   ]
  },
  {
   "cell_type": "code",
   "execution_count": null,
   "metadata": {},
   "outputs": [
    {
     "ename": "ValueError",
     "evalue": "Crisp output cannot be calculated, likely because the system is too sparse. Check to make sure this set of input values will activate at least one connected Term in each Antecedent via the current set of Rules.",
     "output_type": "error",
     "traceback": [
      "\u001b[1;31m---------------------------------------------------------------------------\u001b[0m",
      "\u001b[1;31mAssertionError\u001b[0m                            Traceback (most recent call last)",
      "\u001b[1;32m~\\AppData\\Local\\Continuum\\anaconda3\\lib\\site-packages\\skfuzzy\\control\\controlsystem.py\u001b[0m in \u001b[0;36mdefuzz\u001b[1;34m(self)\u001b[0m\n\u001b[0;32m    586\u001b[0m                 return defuzz(ups_universe, output_mf,\n\u001b[1;32m--> 587\u001b[1;33m                               self.var.defuzzify_method)\n\u001b[0m\u001b[0;32m    588\u001b[0m             \u001b[1;32mexcept\u001b[0m \u001b[0mAssertionError\u001b[0m\u001b[1;33m:\u001b[0m\u001b[1;33m\u001b[0m\u001b[1;33m\u001b[0m\u001b[0m\n",
      "\u001b[1;32m~\\AppData\\Local\\Continuum\\anaconda3\\lib\\site-packages\\skfuzzy\\defuzzify\\defuzz.py\u001b[0m in \u001b[0;36mdefuzz\u001b[1;34m(x, mfx, mode)\u001b[0m\n\u001b[0;32m    247\u001b[0m         \u001b[0mzero_truth_degree\u001b[0m \u001b[1;33m=\u001b[0m \u001b[0mmfx\u001b[0m\u001b[1;33m.\u001b[0m\u001b[0msum\u001b[0m\u001b[1;33m(\u001b[0m\u001b[1;33m)\u001b[0m \u001b[1;33m==\u001b[0m \u001b[1;36m0\u001b[0m  \u001b[1;31m# Approximation of total area\u001b[0m\u001b[1;33m\u001b[0m\u001b[1;33m\u001b[0m\u001b[0m\n\u001b[1;32m--> 248\u001b[1;33m         \u001b[1;32massert\u001b[0m \u001b[1;32mnot\u001b[0m \u001b[0mzero_truth_degree\u001b[0m\u001b[1;33m,\u001b[0m \u001b[1;34m'Total area is zero in defuzzification!'\u001b[0m\u001b[1;33m\u001b[0m\u001b[1;33m\u001b[0m\u001b[0m\n\u001b[0m\u001b[0;32m    249\u001b[0m \u001b[1;33m\u001b[0m\u001b[0m\n",
      "\u001b[1;31mAssertionError\u001b[0m: Total area is zero in defuzzification!",
      "\nDuring handling of the above exception, another exception occurred:\n",
      "\u001b[1;31mValueError\u001b[0m                                Traceback (most recent call last)",
      "\u001b[1;32m<ipython-input-147-ee39bc5f934b>\u001b[0m in \u001b[0;36m<module>\u001b[1;34m\u001b[0m\n\u001b[0;32m     18\u001b[0m     \u001b[0msimulation\u001b[0m\u001b[1;33m.\u001b[0m\u001b[0minput\u001b[0m\u001b[1;33m[\u001b[0m\u001b[1;34m'PCA4'\u001b[0m\u001b[1;33m]\u001b[0m \u001b[1;33m=\u001b[0m \u001b[0mcomp4n\u001b[0m\u001b[1;33m[\u001b[0m\u001b[0mstep\u001b[0m\u001b[1;33m+\u001b[0m\u001b[0mdelay\u001b[0m\u001b[1;33m]\u001b[0m\u001b[1;33m\u001b[0m\u001b[1;33m\u001b[0m\u001b[0m\n\u001b[0;32m     19\u001b[0m     \u001b[0msimulation\u001b[0m\u001b[1;33m.\u001b[0m\u001b[0minput\u001b[0m\u001b[1;33m[\u001b[0m\u001b[1;34m'Vent'\u001b[0m\u001b[1;33m]\u001b[0m \u001b[1;33m=\u001b[0m \u001b[0mdataoutf\u001b[0m\u001b[1;33m.\u001b[0m\u001b[0mNumVentOn\u001b[0m\u001b[1;33m[\u001b[0m\u001b[0mstep\u001b[0m\u001b[1;33m+\u001b[0m\u001b[0mdelay\u001b[0m\u001b[1;33m]\u001b[0m\u001b[1;33m\u001b[0m\u001b[1;33m\u001b[0m\u001b[0m\n\u001b[1;32m---> 20\u001b[1;33m     \u001b[0msimulation\u001b[0m\u001b[1;33m.\u001b[0m\u001b[0mcompute\u001b[0m\u001b[1;33m(\u001b[0m\u001b[1;33m)\u001b[0m\u001b[1;33m\u001b[0m\u001b[1;33m\u001b[0m\u001b[0m\n\u001b[0m\u001b[0;32m     21\u001b[0m     \u001b[0mTout_sim\u001b[0m \u001b[1;33m=\u001b[0m \u001b[0mTout_sim\u001b[0m\u001b[1;33m.\u001b[0m\u001b[0mappend\u001b[0m\u001b[1;33m(\u001b[0m\u001b[1;33m{\u001b[0m\u001b[1;34m'val'\u001b[0m\u001b[1;33m:\u001b[0m\u001b[0msimulation\u001b[0m\u001b[1;33m.\u001b[0m\u001b[0moutput\u001b[0m\u001b[1;33m[\u001b[0m\u001b[1;34m'Tout'\u001b[0m\u001b[1;33m]\u001b[0m\u001b[1;33m}\u001b[0m\u001b[1;33m,\u001b[0m\u001b[0mignore_index\u001b[0m\u001b[1;33m=\u001b[0m\u001b[1;32mTrue\u001b[0m\u001b[1;33m)\u001b[0m\u001b[1;33m\u001b[0m\u001b[1;33m\u001b[0m\u001b[0m\n\u001b[0;32m     22\u001b[0m     \u001b[1;31m#Vent_sim = Vent_sim.append({'val':simulation.output['Vent']},ignore_index=True)\u001b[0m\u001b[1;33m\u001b[0m\u001b[1;33m\u001b[0m\u001b[1;33m\u001b[0m\u001b[0m\n",
      "\u001b[1;32m~\\AppData\\Local\\Continuum\\anaconda3\\lib\\site-packages\\skfuzzy\\control\\controlsystem.py\u001b[0m in \u001b[0;36mcompute\u001b[1;34m(self)\u001b[0m\n\u001b[0;32m    371\u001b[0m         \u001b[1;32mfor\u001b[0m \u001b[0mconsequent\u001b[0m \u001b[1;32min\u001b[0m \u001b[0mself\u001b[0m\u001b[1;33m.\u001b[0m\u001b[0mctrl\u001b[0m\u001b[1;33m.\u001b[0m\u001b[0mconsequents\u001b[0m\u001b[1;33m:\u001b[0m\u001b[1;33m\u001b[0m\u001b[1;33m\u001b[0m\u001b[0m\n\u001b[0;32m    372\u001b[0m             \u001b[0mconsequent\u001b[0m\u001b[1;33m.\u001b[0m\u001b[0moutput\u001b[0m\u001b[1;33m[\u001b[0m\u001b[0mself\u001b[0m\u001b[1;33m]\u001b[0m \u001b[1;33m=\u001b[0m\u001b[0;31m \u001b[0m\u001b[0;31m\\\u001b[0m\u001b[1;33m\u001b[0m\u001b[1;33m\u001b[0m\u001b[0m\n\u001b[1;32m--> 373\u001b[1;33m                 \u001b[0mCrispValueCalculator\u001b[0m\u001b[1;33m(\u001b[0m\u001b[0mconsequent\u001b[0m\u001b[1;33m,\u001b[0m \u001b[0mself\u001b[0m\u001b[1;33m)\u001b[0m\u001b[1;33m.\u001b[0m\u001b[0mdefuzz\u001b[0m\u001b[1;33m(\u001b[0m\u001b[1;33m)\u001b[0m\u001b[1;33m\u001b[0m\u001b[1;33m\u001b[0m\u001b[0m\n\u001b[0m\u001b[0;32m    374\u001b[0m             \u001b[0mself\u001b[0m\u001b[1;33m.\u001b[0m\u001b[0moutput\u001b[0m\u001b[1;33m[\u001b[0m\u001b[0mconsequent\u001b[0m\u001b[1;33m.\u001b[0m\u001b[0mlabel\u001b[0m\u001b[1;33m]\u001b[0m \u001b[1;33m=\u001b[0m \u001b[0mconsequent\u001b[0m\u001b[1;33m.\u001b[0m\u001b[0moutput\u001b[0m\u001b[1;33m[\u001b[0m\u001b[0mself\u001b[0m\u001b[1;33m]\u001b[0m\u001b[1;33m\u001b[0m\u001b[1;33m\u001b[0m\u001b[0m\n\u001b[0;32m    375\u001b[0m \u001b[1;33m\u001b[0m\u001b[0m\n",
      "\u001b[1;32m~\\AppData\\Local\\Continuum\\anaconda3\\lib\\site-packages\\skfuzzy\\control\\controlsystem.py\u001b[0m in \u001b[0;36mdefuzz\u001b[1;34m(self)\u001b[0m\n\u001b[0;32m    587\u001b[0m                               self.var.defuzzify_method)\n\u001b[0;32m    588\u001b[0m             \u001b[1;32mexcept\u001b[0m \u001b[0mAssertionError\u001b[0m\u001b[1;33m:\u001b[0m\u001b[1;33m\u001b[0m\u001b[1;33m\u001b[0m\u001b[0m\n\u001b[1;32m--> 589\u001b[1;33m                 raise ValueError(\"Crisp output cannot be calculated, likely \"\n\u001b[0m\u001b[0;32m    590\u001b[0m                                  \u001b[1;34m\"because the system is too sparse. Check to \"\u001b[0m\u001b[1;33m\u001b[0m\u001b[1;33m\u001b[0m\u001b[0m\n\u001b[0;32m    591\u001b[0m                                  \u001b[1;34m\"make sure this set of input values will \"\u001b[0m\u001b[1;33m\u001b[0m\u001b[1;33m\u001b[0m\u001b[0m\n",
      "\u001b[1;31mValueError\u001b[0m: Crisp output cannot be calculated, likely because the system is too sparse. Check to make sure this set of input values will activate at least one connected Term in each Antecedent via the current set of Rules."
     ]
    }
   ],
   "source": [
    "from IPython.display import clear_output\n",
    "import timeit\n",
    "\n",
    "step = stp_ini\n",
    "k = 0\n",
    "delay = stp_ini\n",
    "end = stp_fim - stp_ini + 21000\n",
    "Tout_sim = pd.DataFrame(columns=['val'])\n",
    "Vent_sim = pd.DataFrame(columns=['val'])\n",
    "\n",
    "start = timeit.default_timer()\n",
    "\n",
    "for step in range(end-k):\n",
    "    clear_output(wait=True)\n",
    "    simulation.input['PCA1'] = comp1n[step+delay]\n",
    "    simulation.input['PCA2'] = comp2n[step+delay]\n",
    "    simulation.input['PCA3'] = comp3n[step+delay]\n",
    "    simulation.input['PCA4'] = comp4n[step+delay]\n",
    "    simulation.input['Vent'] = dataoutf.NumVentOn[step+delay]\n",
    "    simulation.compute()\n",
    "    Tout_sim = Tout_sim.append({'val':simulation.output['Tout']},ignore_index=True)\n",
    "    #Vent_sim = Vent_sim.append({'val':simulation.output['Vent']},ignore_index=True)\n",
    "    \n",
    "    stop = timeit.default_timer()\n",
    "    if ((step/(stp_fim-k-1))*100) < 5:\n",
    "        expected_time = \"Calculating...\"\n",
    "    else:\n",
    "        time_perc = timeit.default_timer()\n",
    "        expected_time = np.round( ( (time_perc-start)/(step/(end-k-1)) )/60,2)\n",
    "        \n",
    "    print(\"Current progress: \",np.round((step/(end-k-1))*100,2),\"%\")\n",
    "    print(\"Current run time: \",np.round((stop-start)/60,2),\"minutes\")\n",
    "    print(\"Expected run time: \",expected_time,\"minutes\")\n"
   ]
  },
  {
   "cell_type": "code",
   "execution_count": null,
   "metadata": {},
   "outputs": [
    {
     "data": {
      "text/plain": [
       "<matplotlib.legend.Legend at 0x2229c048>"
      ]
     },
     "execution_count": 148,
     "metadata": {},
     "output_type": "execute_result"
    },
    {
     "data": {
      "image/png": "[encoded data removed]",
      "text/plain": [
       "<Figure size 432x288 with 1 Axes>"
      ]
     },
     "metadata": {
      "needs_background": "light"
     },
     "output_type": "display_data"
    }
   ],
   "source": [
    "plt.plot(dataoutf.TsaidaHT[stp_ini:end-k].reset_index(drop=True), 'r', label='Dado bruto')\n",
    "plt.plot(Tout_sim.val[0:end-k], 'b--', label='Simulação')\n",
    "plt.legend(bbox_to_anchor=(1.05, 1), loc='upper left', borderaxespad=0.)"
   ]
  },
  {
   "cell_type": "code",
   "execution_count": null,
   "metadata": {},
   "outputs": [
    {
     "name": "stdout",
     "output_type": "stream",
     "text": [
      "Nova regra não encontrada no conjunto atual de regras fuzzy!\n"
     ]
    }
   ],
   "source": [
    "new_c1 = []\n",
    "new_c2 = []\n",
    "new_c3 = []\n",
    "new_c4 = []\n",
    "new_vent = []\n",
    "new_tout = []\n",
    "newcondition1 = []\n",
    "newcondition2 = []\n",
    "newcondition3 = []\n",
    "newcondition4 = []\n",
    "newcondition5 = []\n",
    "newcondition6 = []\n",
    "\n",
    "#input\n",
    "n = 0\n",
    "for n in range(len(namespca)):\n",
    "    new_c1.append(fuzz.interp_membership(np.arange(-1, 1, 0.001), PCA1[namespcapd.name.loc[n]].mf, comp1n[step]))\n",
    "    new_c2.append(fuzz.interp_membership(np.arange(-1, 1, 0.001), PCA2[namespcapd.name.loc[n]].mf, comp2n[step]))\n",
    "    new_c3.append(fuzz.interp_membership(np.arange(-1, 1, 0.001), PCA3[namespcapd.name.loc[n]].mf, comp3n[step]))\n",
    "    new_c4.append(fuzz.interp_membership(np.arange(-1, 1, 0.001), PCA4[namespcapd.name.loc[n]].mf, comp4n[step]))\n",
    "\n",
    "n = 0\n",
    "for n in range(len(namesvent)):    \n",
    "    new_vent.append(fuzz.interp_membership(np.arange(0,56,1), Vent[namesventpd.name.loc[n]].mf, dataoutf.NumVentOn[step]))\n",
    "    \n",
    "#output\n",
    "n = 0\n",
    "for n in range(len(namestemp)):\n",
    "    new_tout.append(fuzz.interp_membership(np.arange(20, 100, 0.01), Tout[namestemppd.name.loc[n]].mf, dataoutf.TsaidaHT[step]))\n",
    "    \n",
    "#new_c1 = np.transpose(new_c1)\n",
    "new_c1_conv = pd.DataFrame(new_c1)\n",
    "#new_c2 = np.transpose(new_c2)\n",
    "new_c2_conv = pd.DataFrame(new_c2)\n",
    "#new_c3 = np.transpose(new_c3)\n",
    "new_c3_conv = pd.DataFrame(new_c3)\n",
    "#new_c4 = np.transpose(new_c4)\n",
    "new_c4_conv = pd.DataFrame(new_c4)\n",
    "#new_vent = np.transpose(new_vent)\n",
    "new_vent_conv = pd.DataFrame(new_vent)\n",
    "#new_tout = np.transpose(new_tout)\n",
    "new_tout_conv = pd.DataFrame(new_tout)\n",
    "\n",
    "i=0\n",
    "for i in range(pcamf):\n",
    "    newcondition1.append([new_c1_conv.idxmax(axis=0) == i])\n",
    "    newcondition2.append([new_c2_conv.idxmax(axis=0) == i])\n",
    "    newcondition3.append([new_c3_conv.idxmax(axis=0) == i])\n",
    "    newcondition4.append([new_c4_conv.idxmax(axis=0) == i])\n",
    "\n",
    "i=0\n",
    "for i in range(ventmf):\n",
    "    newcondition5.append([new_vent_conv.idxmax(axis=0) == i])\n",
    "    \n",
    "i=0\n",
    "for i in range(tempmf):\n",
    "    newcondition6.append([new_tout_conv.idxmax(axis=0) == i])\n",
    "\n",
    "choicelistpca = namespca\n",
    "choicelistvent = namesvent\n",
    "choicelisttout = namestemp\n",
    "\n",
    "new_c1_rules = np.select(newcondition1, choicelistpca)\n",
    "new_c2_rules = np.select(newcondition2, choicelistpca)\n",
    "new_c3_rules = np.select(newcondition3, choicelistpca)\n",
    "new_c4_rules = np.select(newcondition4, choicelistpca)\n",
    "new_vent_rules = np.select(newcondition5, choicelistvent)\n",
    "new_tout_rules = np.select(newcondition6, choicelisttout)\n",
    "\n",
    "new_rules = np.vstack([new_c1_rules,new_c2_rules,new_c3_rules,new_c4_rules,new_vent_rules,new_tout_rules])\n",
    "new_rules = new_rules.T\n",
    "\n",
    "new_rulespd = pd.DataFrame(new_rules,columns=['PCA1','PCA2','PCA3','PCA4','Vent','Tout'])\n",
    "\n",
    "#Checar se a nova regra está dentro do conjunto de regras fuzzy atual\n",
    "if pd.merge(new_rulespd,AutoRules, on=['PCA1','PCA2','PCA3','PCA4','Vent','Tout'],how='inner').empty:\n",
    "    print('Nova regra não encontrada no conjunto atual de regras fuzzy!')\n",
    "else:\n",
    "    pd.merge(new_rulespd,AutoRules, on=['PCA1','PCA2','PCA3','PCA4','Vent','Tout'],how='inner')"
   ]
  },
  {
   "cell_type": "code",
   "execution_count": null,
   "metadata": {},
   "outputs": [],
   "source": [
    "pc1v = (fuzz.interp_membership(np.arange(-1, 1, 0.001), PCA1[new_rulespd.PCA1[0]].mf, comp1n[step]))\n",
    "pc2v = (fuzz.interp_membership(np.arange(-1, 1, 0.001), PCA2[new_rulespd.PCA2[0]].mf, comp2n[step]))\n",
    "pc3v = (fuzz.interp_membership(np.arange(-1, 1, 0.001), PCA3[new_rulespd.PCA3[0]].mf, comp3n[step]))\n",
    "pc4v = (fuzz.interp_membership(np.arange(-1, 1, 0.001), PCA4[new_rulespd.PCA4[0]].mf, comp4n[step]))\n",
    "ventv = (fuzz.interp_membership(np.arange(0,56,1), Vent[new_rulespd.Vent[0]].mf, dataoutf.NumVentOn[step]))\n",
    "toutv = (fuzz.interp_membership(np.arange(20, 100, 0.01), Tout[new_rulespd.Tout[0]].mf, dataoutf.TsaidaHT[step]))"
   ]
  },
  {
   "cell_type": "code",
   "execution_count": null,
   "metadata": {},
   "outputs": [],
   "source": [
    "def find_nearest(array, value):\n",
    "    array = np.asarray(array)\n",
    "    idx = (np.abs(array - value)).argmin()\n",
    "    return array[idx]"
   ]
  },
  {
   "cell_type": "code",
   "execution_count": null,
   "metadata": {},
   "outputs": [],
   "source": [
    "idx_axis = []\n",
    "#Pca1\n",
    "x_axis1 = np.arange(-1,1,2/len(PCA1[new_rulespd.PCA1[0]].mf))\n",
    "y_axis1 = PCA1[new_rulespd.PCA1[0]].mf\n",
    "idx_axis1 = np.where(y_axis1>0)\n",
    "idx_axis1 = list(idx_axis1[0])\n",
    "\n",
    "idx_axis1.insert(0,idx_axis1[0]-1)\n",
    "idx_axis1.append(idx_axis1[-1]+1)\n",
    "\n",
    "x_axis1 = np.take(x_axis1,idx_axis1)\n",
    "y_axis1 = np.take(y_axis1,idx_axis1)\n",
    "\n",
    "loc1 = find_nearest(y_axis1,pc1v)\n",
    "locc1 = x_axis1[np.where(y_axis1==loc1)]\n",
    "defuzz_funn1 = np.where(y_axis1>pc1v,pc1v,y_axis1)\n",
    "\n",
    "x_axis1 = np.arange(-1,1,2/len(PCA1[new_rulespd.PCA1[0]].mf))\n",
    "y_axis1 = PCA1[new_rulespd.PCA1[0]].mf\n",
    "idx_axis1 = np.where(y_axis1>0)\n",
    "idx_axis1 = list(idx_axis1[0])\n",
    "\n",
    "idx_axis1.insert(0,idx_axis1[0]-1)\n",
    "idx_axis1.append(idx_axis1[-1]+1)\n",
    "\n",
    "x_axis1 = np.take(x_axis1,idx_axis1)\n",
    "y_axis1 = np.take(y_axis1,idx_axis1)\n",
    "\n",
    "loc1 = find_nearest(y_axis1,pc1v)\n",
    "locc1 = x_axis1[np.where(y_axis1==loc1)]\n",
    "defuzz_funn1 = np.where(y_axis1>pc1v,pc1v,y_axis1)"
   ]
  },
  {
   "cell_type": "code",
   "execution_count": null,
   "metadata": {},
   "outputs": [],
   "source": [
    "#Pca2\n",
    "x_axis2 = np.arange(-1,1,2/len(PCA2[new_rulespd.PCA2[0]].mf))\n",
    "y_axis2 = PCA2[new_rulespd.PCA2[0]].mf\n",
    "idx_axis2 = np.where(y_axis2>0)\n",
    "idx_axis2 = list(idx_axis2[0])\n",
    "\n",
    "idx_axis2.insert(0,idx_axis2[0]-1)\n",
    "idx_axis2.append(idx_axis2[-1]+1)\n",
    "\n",
    "x_axis2 = np.take(x_axis2,idx_axis2)\n",
    "y_axis2 = np.take(y_axis2,idx_axis2)\n",
    "\n",
    "loc2 = find_nearest(y_axis2,pc2v)\n",
    "locc2 = x_axis2[np.where(y_axis2==loc2)]\n",
    "defuzz_funn2 = np.where(y_axis2>pc2v,pc2v,y_axis2)\n",
    "\n",
    "x_axis2 = np.arange(-1,1,2/len(PCA2[new_rulespd.PCA2[0]].mf))\n",
    "y_axis2 = PCA2[new_rulespd.PCA2[0]].mf\n",
    "idx_axis2 = np.where(y_axis2>0)\n",
    "idx_axis2 = list(idx_axis2[0])\n",
    "\n",
    "idx_axis2.insert(0,idx_axis2[0]-1)\n",
    "idx_axis2.append(idx_axis2[-1]+1)\n",
    "\n",
    "x_axis2 = np.take(x_axis2,idx_axis2)\n",
    "y_axis2 = np.take(y_axis2,idx_axis2)\n",
    "\n",
    "loc2 = find_nearest(y_axis2,pc2v)\n",
    "locc2 = x_axis2[np.where(y_axis2==loc2)]\n",
    "defuzz_funn2 = np.where(y_axis2>pc2v,pc2v,y_axis2)"
   ]
  },
  {
   "cell_type": "code",
   "execution_count": null,
   "metadata": {},
   "outputs": [],
   "source": [
    "#Pca3\n",
    "x_axis3 = np.arange(-1,1,2/len(PCA3[new_rulespd.PCA3[0]].mf))\n",
    "y_axis3 = PCA3[new_rulespd.PCA3[0]].mf\n",
    "idx_axis3 = np.where(y_axis3>0)\n",
    "idx_axis3 = list(idx_axis3[0])\n",
    "\n",
    "idx_axis3.insert(0,idx_axis3[0]-1)\n",
    "idx_axis3.append(idx_axis3[-1]+1)\n",
    "\n",
    "x_axis3 = np.take(x_axis3,idx_axis3)\n",
    "y_axis3 = np.take(y_axis3,idx_axis3)\n",
    "\n",
    "loc3 = find_nearest(y_axis3,pc3v)\n",
    "locc3 = x_axis3[np.where(y_axis3==loc3)]\n",
    "defuzz_funn3 = np.where(y_axis3>pc3v,pc3v,y_axis3)\n",
    "\n",
    "x_axis3 = np.arange(-1,1,2/len(PCA3[new_rulespd.PCA3[0]].mf))\n",
    "y_axis3 = PCA3[new_rulespd.PCA3[0]].mf\n",
    "idx_axis3 = np.where(y_axis3>0)\n",
    "idx_axis3 = list(idx_axis3[0])\n",
    "\n",
    "idx_axis3.insert(0,idx_axis3[0]-1)\n",
    "idx_axis3.append(idx_axis3[-1]+1)\n",
    "\n",
    "x_axis3 = np.take(x_axis3,idx_axis3)\n",
    "y_axis3 = np.take(y_axis3,idx_axis3)\n",
    "\n",
    "loc3 = find_nearest(y_axis3,pc3v)\n",
    "locc3 = x_axis3[np.where(y_axis3==loc3)]\n",
    "defuzz_funn3 = np.where(y_axis3>pc3v,pc3v,y_axis3)"
   ]
  },
  {
   "cell_type": "code",
   "execution_count": null,
   "metadata": {},
   "outputs": [],
   "source": [
    "#Pca4\n",
    "x_axis4 = np.arange(-1,1,2/len(PCA4[new_rulespd.PCA4[0]].mf))\n",
    "y_axis4 = PCA4[new_rulespd.PCA4[0]].mf\n",
    "idx_axis4 = np.where(y_axis4>0)\n",
    "idx_axis4 = list(idx_axis4[0])\n",
    "\n",
    "idx_axis4.insert(0,idx_axis4[0]-1)\n",
    "idx_axis4.append(idx_axis4[-1]+1)\n",
    "\n",
    "x_axis4 = np.take(x_axis4,idx_axis4)\n",
    "y_axis4 = np.take(y_axis4,idx_axis4)\n",
    "\n",
    "loc4= find_nearest(y_axis4,pc4v)\n",
    "locc4 = x_axis4[np.where(y_axis4==loc4)]\n",
    "defuzz_funn4 = np.where(y_axis4>pc4v,pc4v,y_axis4)\n",
    "\n",
    "x_axis4 = np.arange(-1,1,2/len(PCA4[new_rulespd.PCA4[0]].mf))\n",
    "y_axis4 = PCA4[new_rulespd.PCA4[0]].mf\n",
    "idx_axis4 = np.where(y_axis4>0)\n",
    "idx_axis4 = list(idx_axis4[0])\n",
    "\n",
    "idx_axis4.insert(0,idx_axis4[0]-1)\n",
    "idx_axis4.append(idx_axis4[-1]+1)\n",
    "\n",
    "x_axis4 = np.take(x_axis4,idx_axis4)\n",
    "y_axis4 = np.take(y_axis4,idx_axis4)\n",
    "\n",
    "loc4 = find_nearest(y_axis4,pc4v)\n",
    "locc4 = x_axis4[np.where(y_axis4==loc4)]\n",
    "defuzz_funn4 = np.where(y_axis4>pc4v,pc4v,y_axis4)"
   ]
  },
  {
   "cell_type": "code",
   "execution_count": null,
   "metadata": {},
   "outputs": [],
   "source": [
    "#Vent\n",
    "x_axis5 = np.arange(0,56,2/len(Vent[new_rulespd.Vent[0]].mf))\n",
    "y_axis5 = Vent[new_rulespd.Vent[0]].mf\n",
    "idx_axis5 = np.where(y_axis5>0)\n",
    "idx_axis5 = list(idx_axis5[0])\n",
    "\n",
    "idx_axis5.insert(0,idx_axis5[0]-1)\n",
    "idx_axis5.append(idx_axis5[-1]+1)\n",
    "\n",
    "x_axis5 = np.take(x_axis5,idx_axis5)\n",
    "y_axis5 = np.take(y_axis5,idx_axis5)\n",
    "\n",
    "loc5 = find_nearest(y_axis5,ventv)\n",
    "locc5 = x_axis5[np.where(y_axis5==loc5)]\n",
    "defuzz_funn5 = np.where(y_axis5>ventv,ventv,y_axis5)\n",
    "\n",
    "x_axis5 = np.arange(-1,1,2/len(Vent[new_rulespd.Vent[0]].mf))\n",
    "y_axis5 = Vent[new_rulespd.Vent[0]].mf\n",
    "idx_axis5 = np.where(y_axis5>0)\n",
    "idx_axis5 = list(idx_axis5[0])\n",
    "\n",
    "idx_axis5.insert(0,idx_axis5[0]-1)\n",
    "idx_axis5.append(idx_axis5[-1]+1)\n",
    "\n",
    "x_axis5 = np.take(x_axis5,idx_axis5)\n",
    "y_axis5 = np.take(y_axis5,idx_axis5)\n",
    "\n",
    "loc5 = find_nearest(y_axis5,ventv)\n",
    "locc5 = x_axis5[np.where(y_axis5==loc5)]\n",
    "defuzz_funn5 = np.where(y_axis5>ventv,ventv,y_axis5)"
   ]
  },
  {
   "cell_type": "code",
   "execution_count": null,
   "metadata": {},
   "outputs": [],
   "source": []
  },
  {
   "cell_type": "code",
   "execution_count": null,
   "metadata": {},
   "outputs": [],
   "source": [
    "#Tout\n",
    "x_axis6 = np.arange(20,100,2/len(Tout[new_rulespd.Tout[0]].mf))\n",
    "y_axis6 = Tout[new_rulespd.Tout[0]].mf\n",
    "idx_axis6 = np.where(y_axis6>0)\n",
    "idx_axis6 = list(idx_axis6[0])\n",
    "\n",
    "idx_axis6.insert(0,idx_axis6[0]-1)\n",
    "idx_axis6.append(idx_axis6[-1]+1)\n",
    "\n",
    "x_axis6 = np.take(x_axis6,idx_axis6)\n",
    "y_axis6 = np.take(y_axis6,idx_axis6)\n",
    "\n",
    "loc6 = find_nearest(y_axis6,toutv)\n",
    "locc6 = x_axis6[np.where(y_axis6==loc6)]\n",
    "defuzz_funn6 = np.where(y_axis6>toutv,toutv,y_axis6)\n",
    "\n",
    "x_axis6 = np.arange(-1,1,2/len(Tout[new_rulespd.Tout[0]].mf))\n",
    "y_axis6 = Tout[new_rulespd.Tout[0]].mf\n",
    "idx_axis6 = np.where(y_axis6>0)\n",
    "idx_axis6 = list(idx_axis6[0])\n",
    "\n",
    "idx_axis6.insert(0,idx_axis6[0]-1)\n",
    "idx_axis6.append(idx_axis6[-1]+1)\n",
    "\n",
    "x_axis6 = np.take(x_axis6,idx_axis6)\n",
    "y_axis6 = np.take(y_axis6,idx_axis6)\n",
    "\n",
    "loc6 = find_nearest(y_axis6,toutv)\n",
    "locc6 = x_axis6[np.where(y_axis6==loc6)]\n",
    "defuzz_funn6 = np.where(y_axis6>toutv,toutv,y_axis6)"
   ]
  },
  {
   "cell_type": "code",
   "execution_count": null,
   "metadata": {},
   "outputs": [
    {
     "data": {
      "image/png": "[encoded data removed]",
      "text/plain": [
       "<Figure size 576x648 with 6 Axes>"
      ]
     },
     "metadata": {
      "needs_background": "light"
     },
     "output_type": "display_data"
    }
   ],
   "source": [
    "fig, (ax0, ax1, ax2, ax3, ax4, ax5) = plt.subplots(nrows=6, figsize=(8, 9))\n",
    "\n",
    "ax0.plot(x_axis1, y_axis1, 'b', linewidth=0.5, linestyle='--', )\n",
    "ax0.fill_between(x_axis1, defuzz_funn1, facecolor='Orange', alpha=0.7)\n",
    "ax0.plot([locc1, locc1], [0, pc1v], 'k', linewidth=1.5, alpha=0.9)\n",
    "ax0.set_title('Deffuzificação PCA1')\n",
    "\n",
    "ax1.plot(x_axis2, y_axis2, 'g', linewidth=0.5, linestyle='--', )\n",
    "ax1.fill_between(x_axis2, defuzz_funn2, facecolor='Orange', alpha=0.7)\n",
    "ax1.plot([locc2, locc2], [0, pc2v], 'k', linewidth=1.5, alpha=0.9)\n",
    "ax1.set_title('Deffuzificação PCA2')\n",
    "\n",
    "ax2.plot(x_axis3, y_axis3, 'r', linewidth=0.5, linestyle='--', )\n",
    "ax2.fill_between(x_axis3, defuzz_funn3, facecolor='Orange', alpha=0.7)\n",
    "ax2.plot([locc3, locc3], [0, pc3v], 'k', linewidth=1.5, alpha=0.9)\n",
    "ax2.set_title('Deffuzificação PCA3')\n",
    "\n",
    "ax3.plot(x_axis4, y_axis4, 'c', linewidth=0.5, linestyle='--', )\n",
    "ax3.fill_between(x_axis4, defuzz_funn4, facecolor='Orange', alpha=0.7)\n",
    "ax3.plot([locc4, locc4], [0, pc4v], 'k', linewidth=1.5, alpha=0.9)\n",
    "ax3.set_title('Deffuzificação PCA4')\n",
    "\n",
    "ax4.plot(x_axis5, y_axis5, 'm', linewidth=0.5, linestyle='--', )\n",
    "ax4.fill_between(x_axis5, defuzz_funn5, facecolor='Orange', alpha=0.7)\n",
    "ax4.plot([locc5, locc5], [0, ventv], 'k', linewidth=1.5, alpha=0.9)\n",
    "ax4.set_title('Deffuzificação Vent')\n",
    "\n",
    "ax5.plot(x_axis6, y_axis6, 'y', linewidth=0.5, linestyle='--', )\n",
    "ax5.fill_between(x_axis6, defuzz_funn6, facecolor='Orange', alpha=0.7)\n",
    "ax5.plot([locc6, locc6], [0, toutv], 'k', linewidth=1.5, alpha=0.9)\n",
    "ax5.set_title('Deffuzificação Tout')\n",
    "\n",
    "# Turn off top/right axes\n",
    "for ax in (ax0, ax1, ax2, ax3, ax4, ax5):\n",
    "    ax.spines['top'].set_visible(False)\n",
    "    ax.spines['right'].set_visible(False)\n",
    "    ax.get_xaxis().tick_bottom()\n",
    "    ax.get_yaxis().tick_left()\n",
    "\n",
    "plt.tight_layout()"
   ]
  },
  {
   "cell_type": "code",
   "execution_count": null,
   "metadata": {},
   "outputs": [
    {
     "data": {
      "text/html": [
       "<div>\n",
       "<style scoped>\n",
       "    .dataframe tbody tr th:only-of-type {\n",
       "        vertical-align: middle;\n",
       "    }\n",
       "\n",
       "    .dataframe tbody tr th {\n",
       "        vertical-align: top;\n",
       "    }\n",
       "\n",
       "    .dataframe thead th {\n",
       "        text-align: right;\n",
       "    }\n",
       "</style>\n",
       "<table border=\"1\" class=\"dataframe\">\n",
       "  <thead>\n",
       "    <tr style=\"text-align: right;\">\n",
       "      <th></th>\n",
       "      <th>PCA1</th>\n",
       "      <th>PCA2</th>\n",
       "      <th>PCA3</th>\n",
       "      <th>PCA4</th>\n",
       "      <th>Vent</th>\n",
       "      <th>Tout</th>\n",
       "    </tr>\n",
       "  </thead>\n",
       "  <tbody>\n",
       "    <tr>\n",
       "      <th>0</th>\n",
       "      <td>comp30</td>\n",
       "      <td>comp27</td>\n",
       "      <td>comp28</td>\n",
       "      <td>comp29</td>\n",
       "      <td>ventnum49</td>\n",
       "      <td>temp47</td>\n",
       "    </tr>\n",
       "  </tbody>\n",
       "</table>\n",
       "</div>"
      ],
      "text/plain": [
       "     PCA1    PCA2    PCA3    PCA4       Vent    Tout\n",
       "0  comp30  comp27  comp28  comp29  ventnum49  temp47"
      ]
     },
     "execution_count": 181,
     "metadata": {},
     "output_type": "execute_result"
    }
   ],
   "source": [
    "new_rulespd"
   ]
  },
  {
   "cell_type": "code",
   "execution_count": null,
   "metadata": {},
   "outputs": [],
   "source": [
    "plt.plot(dataout.NumVentOn[stp_ini:stp_fim-k].reset_index(drop=True), 'r', label='Dado bruto')\n",
    "plt.plot(Vent_sim.val[stp_ini:stp_fim-k], 'b--', label='Simulação')\n",
    "plt.legend(bbox_to_anchor=(1.05, 1), loc='upper left', borderaxespad=0.)"
   ]
  },
  {
   "cell_type": "code",
   "execution_count": null,
   "metadata": {},
   "outputs": [
    {
     "name": "stdout",
     "output_type": "stream",
     "text": [
      "7.530673548056427\n",
      "2.0303811750915886\n",
      "1.9990084172021898\n"
     ]
    }
   ],
   "source": [
    "from sklearn.metrics import max_error\n",
    "from sklearn.metrics import mean_squared_error\n",
    "# from sklearn.utils import check_array\n",
    "\n",
    "# def mean_absolute_percentage_error(y_true, y_pred):\n",
    "#     y_true, y_pred = check_array(y_true, y_pred)\n",
    "#     ## Note: does not handle mix 1d representation\n",
    "#     #if _is_1d(y_true):\n",
    "#     #    y_true, y_pred = _check_1d_array(y_true, y_pred)\n",
    "#     return np.mean(np.abs((y_true - y_pred) / y_true)) * 100\n",
    "\n",
    "def mean_absolute_percentage_error(y_true, y_pred): \n",
    "    y_true, y_pred = np.array(y_true), np.array(y_pred)\n",
    "    return np.mean(np.abs((y_true - y_pred) / y_true)) * 100\n",
    "\n",
    "Max_E = max_error(dataoutf.TsaidaHT[stp_ini:stp_fim-k],Tout_sim.val[0:end-k])\n",
    "MSE = mean_squared_error(dataoutf.TsaidaHT[stp_ini:stp_fim-k],Tout_sim.val[0:end-k])\n",
    "MAPE = mean_absolute_percentage_error(dataoutf.TsaidaHT[stp_ini:stp_fim-k],Tout_sim.val[0:end-k])\n",
    "\n",
    "print(Max_E)\n",
    "print(MSE)\n",
    "print(MAPE)"
   ]
  },
  {
   "cell_type": "code",
   "execution_count": null,
   "metadata": {},
   "outputs": [
    {
     "data": {
      "text/plain": [
       "0        25.251883\n",
       "1        25.251883\n",
       "2        25.251883\n",
       "3        25.251883\n",
       "4        25.251883\n",
       "5        25.251883\n",
       "6        25.251883\n",
       "7        25.251884\n",
       "8        25.251884\n",
       "9        25.251884\n",
       "10       25.251884\n",
       "11       25.251883\n",
       "12       25.251883\n",
       "13       25.251883\n",
       "14       25.251883\n",
       "15       25.251883\n",
       "16       25.251884\n",
       "17       25.251883\n",
       "18       25.251884\n",
       "19       25.251884\n",
       "20       25.251884\n",
       "21       25.251885\n",
       "22       25.251884\n",
       "23       25.251884\n",
       "24       25.251883\n",
       "25       25.251883\n",
       "26       25.251883\n",
       "27       25.251883\n",
       "28       25.251883\n",
       "29       25.251883\n",
       "           ...    \n",
       "21570    58.239601\n",
       "21571    58.169178\n",
       "21572    57.858666\n",
       "21573    57.668455\n",
       "21574    57.974238\n",
       "21575    58.345632\n",
       "21576    59.672833\n",
       "21577    58.929436\n",
       "21578    59.820252\n",
       "21579    59.916731\n",
       "21580    59.995000\n",
       "21581    59.853884\n",
       "21582    58.649663\n",
       "21583    58.561676\n",
       "21584    58.163486\n",
       "21585    58.230852\n",
       "21586    58.018215\n",
       "21587    57.735817\n",
       "21588    57.979579\n",
       "21589    58.220604\n",
       "21590    59.575529\n",
       "21591    59.995000\n",
       "21592    59.995000\n",
       "21593    59.995000\n",
       "21594    59.963783\n",
       "21595    59.995000\n",
       "21596    59.362058\n",
       "21597    58.790554\n",
       "21598    58.718406\n",
       "21599    59.068904\n",
       "Name: val, Length: 21600, dtype: float64"
      ]
     },
     "execution_count": 56,
     "metadata": {},
     "output_type": "execute_result"
    }
   ],
   "source": [
    "#dataout.TsaidaHT[stp_ini:stp_fim-k]\n",
    "Tout_sim.val[0:end-k]"
   ]
  },
  {
   "cell_type": "code",
   "execution_count": null,
   "metadata": {},
   "outputs": [],
   "source": []
  },
  {
   "cell_type": "code",
   "execution_count": null,
   "metadata": {},
   "outputs": [],
   "source": [
    "fulltime = len(DataHora)/3600\n",
    "entrada_on.NumVentOn.hist(bins=25, weights=np.ones(len(entrada_on.NumVentOn)) / 3600, align='mid' )"
   ]
  },
  {
   "cell_type": "code",
   "execution_count": null,
   "metadata": {},
   "outputs": [],
   "source": [
    "saida_on.hist(bins=60, weights=np.ones(len(saida_on)) / 3600)"
   ]
  },
  {
   "cell_type": "code",
   "execution_count": null,
   "metadata": {},
   "outputs": [],
   "source": [
    "saida_on.hist(bins=60)"
   ]
  },
  {
   "cell_type": "code",
   "execution_count": null,
   "metadata": {},
   "outputs": [],
   "source": []
  },
  {
   "cell_type": "code",
   "execution_count": null,
   "metadata": {},
   "outputs": [],
   "source": [
    "entrada_normal.to_csv(r'C:\\Users\\carlos.araujo\\Documents\\Mestrado\\Python\\Dados\\entrada_on_normal_14a26_maio.txt', header=['TentHT', 'NumVentOn', 'Tamb'], index=None, sep=' ', mode='a')\n",
    "saida_normal.to_csv(r'C:\\Users\\carlos.araujo\\Documents\\Mestrado\\Python\\Dados\\saida_on_normal_14a26_maio.txt', header=['TsaidaHT'], index=None, sep=' ', mode='a')\n",
    "cond_normal.to_csv(r'C:\\Users\\carlos.araujo\\Documents\\Mestrado\\Python\\Dados\\cond_on_normal_14a26_maio.txt', header=['Status'], index=None, sep=' ', mode='a')\n",
    "DataHora_normal.to_csv(r'C:\\Users\\carlos.araujo\\Documents\\Mestrado\\Python\\Dados\\datahora_on_normal_14a26_maio.txt', header=['DataHora'], index=None, sep=' ', mode='a')\n"
   ]
  },
  {
   "cell_type": "code",
   "execution_count": null,
   "metadata": {},
   "outputs": [],
   "source": []
  },
  {
   "cell_type": "code",
   "execution_count": null,
   "metadata": {},
   "outputs": [],
   "source": [
    "\n"
   ]
  },
  {
   "cell_type": "code",
   "execution_count": null,
   "metadata": {},
   "outputs": [],
   "source": [
    "\n"
   ]
  }
 ],
 "metadata": {
  "kernelspec": {
   "display_name": "Python 3",
   "language": "python",
   "name": "python3"
  },
  "language_info": {
   "codemirror_mode": {
    "name": "ipython",
    "version": 3
   },
   "file_extension": ".py",
   "mimetype": "text/x-python",
   "name": "python",
   "nbconvert_exporter": "python",
   "pygments_lexer": "ipython3",
   "version": "3.10.10"
  }
 },
 "nbformat": 4,
 "nbformat_minor": 2
}
